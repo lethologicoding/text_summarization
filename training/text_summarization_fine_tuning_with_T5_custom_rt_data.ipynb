{
 "cells": [
  {
   "cell_type": "markdown",
   "metadata": {
    "id": "pzM1_ykHaFur"
   },
   "source": [
    "# Finetuning Text Summarization Notebook\n",
    "\n",
    "## Hugging Face T5 transformer Trained on Custom Rotten Tomatoes \n",
    "\n",
    "# \n",
    "\n",
    "\n",
    "- Custom Rotten Tomatoes data is collecting hundreds of the top movies from IMDB, then\n",
    "- Scraping those movies rotten tomatoes pages for:\n",
    "    - **each critic consensus summary as y_target** \n",
    "    - **all critic reviews as combined x_train input**"
   ]
  },
  {
   "cell_type": "code",
   "execution_count": 1,
   "metadata": {
    "id": "pzM1_ykHaFur"
   },
   "outputs": [],
   "source": [
    "from os.path import join, isfile\n",
    "from os import listdir\n",
    "import pandas as pd\n",
    "import pytorch_lightning as pl\n",
    "from pytorch_lightning.loggers import TensorBoardLogger\n",
    "from pytorch_lightning.callbacks import ModelCheckpoint\n",
    "from rouge_score import rouge_scorer\n",
    "import torch\n",
    "from torch.utils.data import TensorDataset, random_split\n",
    "from torch.utils.data import  DataLoader, RandomSampler, SequentialSampler #Dataset,\n",
    "from transformers import get_linear_schedule_with_warmup, AdamW\n",
    "from transformers import T5Tokenizer, T5ForConditionalGeneration"
   ]
  },
  {
   "cell_type": "markdown",
   "metadata": {},
   "source": [
    "## Loading data from Hugging Face "
   ]
  },
  {
   "cell_type": "code",
   "execution_count": 2,
   "metadata": {},
   "outputs": [
    {
     "name": "stdout",
     "output_type": "stream",
     "text": [
      "(2152, 6)\n"
     ]
    },
    {
     "data": {
      "text/html": [
       "<div>\n",
       "<style scoped>\n",
       "    .dataframe tbody tr th:only-of-type {\n",
       "        vertical-align: middle;\n",
       "    }\n",
       "\n",
       "    .dataframe tbody tr th {\n",
       "        vertical-align: top;\n",
       "    }\n",
       "\n",
       "    .dataframe thead th {\n",
       "        text-align: right;\n",
       "    }\n",
       "</style>\n",
       "<table border=\"1\" class=\"dataframe\">\n",
       "  <thead>\n",
       "    <tr style=\"text-align: right;\">\n",
       "      <th></th>\n",
       "      <th>movie_key</th>\n",
       "      <th>reviews</th>\n",
       "      <th>url</th>\n",
       "      <th>critic_summary</th>\n",
       "      <th>user_summary</th>\n",
       "      <th>movie</th>\n",
       "    </tr>\n",
       "  </thead>\n",
       "  <tbody>\n",
       "    <tr>\n",
       "      <th>0</th>\n",
       "      <td>a_quiet_place_part_ii</td>\n",
       "      <td>[Really tense throughout the movie, the sequen...</td>\n",
       "      <td>https://www.rottentomatoes.com/m/a_quiet_place...</td>\n",
       "      <td>A nerve-wracking continuation of its predecess...</td>\n",
       "      <td>Almost as scary and intense as the original, A...</td>\n",
       "      <td>A Quiet Place Part II</td>\n",
       "    </tr>\n",
       "    <tr>\n",
       "      <th>1</th>\n",
       "      <td>being_the_ricardos</td>\n",
       "      <td>[Nicole Kidman transforms herself into Lucile ...</td>\n",
       "      <td>https://www.rottentomatoes.com/m/being_the_ric...</td>\n",
       "      <td>Being the Ricardos can't hope to truly capture...</td>\n",
       "      <td>It'll probably mean most to viewers who grew u...</td>\n",
       "      <td>Being the Ricardos</td>\n",
       "    </tr>\n",
       "    <tr>\n",
       "      <th>2</th>\n",
       "      <td>belle_2022</td>\n",
       "      <td>[Very beautiful movie, masterpiece 🎆🌌🌠🎇 but de...</td>\n",
       "      <td>https://www.rottentomatoes.com/m/belle_2022</td>\n",
       "      <td>A remarkable story brought to life with dazzli...</td>\n",
       "      <td>Beautiful to watch as well as listen to, Belle...</td>\n",
       "      <td>Belle</td>\n",
       "    </tr>\n",
       "    <tr>\n",
       "      <th>3</th>\n",
       "      <td>bo_burnham_inside</td>\n",
       "      <td>[This special is not for me but it is definetl...</td>\n",
       "      <td>https://www.rottentomatoes.com/m/bo_burnham_in...</td>\n",
       "      <td>A claustrophobic masterclass in comedy and int...</td>\n",
       "      <td>A brilliant blend of sharp humor and emotional...</td>\n",
       "      <td>Inside</td>\n",
       "    </tr>\n",
       "    <tr>\n",
       "      <th>4</th>\n",
       "      <td>candyman_2021</td>\n",
       "      <td>[There are some really interesting ideas in th...</td>\n",
       "      <td>https://www.rottentomatoes.com/m/candyman_2021</td>\n",
       "      <td>Candyman takes an incisive, visually thrilling...</td>\n",
       "      <td>The 2021 Candyman may not be as scary as the o...</td>\n",
       "      <td>Candyman</td>\n",
       "    </tr>\n",
       "  </tbody>\n",
       "</table>\n",
       "</div>"
      ],
      "text/plain": [
       "               movie_key                                            reviews  \\\n",
       "0  a_quiet_place_part_ii  [Really tense throughout the movie, the sequen...   \n",
       "1     being_the_ricardos  [Nicole Kidman transforms herself into Lucile ...   \n",
       "2             belle_2022  [Very beautiful movie, masterpiece 🎆🌌🌠🎇 but de...   \n",
       "3      bo_burnham_inside  [This special is not for me but it is definetl...   \n",
       "4          candyman_2021  [There are some really interesting ideas in th...   \n",
       "\n",
       "                                                 url  \\\n",
       "0  https://www.rottentomatoes.com/m/a_quiet_place...   \n",
       "1  https://www.rottentomatoes.com/m/being_the_ric...   \n",
       "2        https://www.rottentomatoes.com/m/belle_2022   \n",
       "3  https://www.rottentomatoes.com/m/bo_burnham_in...   \n",
       "4     https://www.rottentomatoes.com/m/candyman_2021   \n",
       "\n",
       "                                      critic_summary  \\\n",
       "0  A nerve-wracking continuation of its predecess...   \n",
       "1  Being the Ricardos can't hope to truly capture...   \n",
       "2  A remarkable story brought to life with dazzli...   \n",
       "3  A claustrophobic masterclass in comedy and int...   \n",
       "4  Candyman takes an incisive, visually thrilling...   \n",
       "\n",
       "                                        user_summary                  movie  \n",
       "0  Almost as scary and intense as the original, A...  A Quiet Place Part II  \n",
       "1  It'll probably mean most to viewers who grew u...     Being the Ricardos  \n",
       "2  Beautiful to watch as well as listen to, Belle...                  Belle  \n",
       "3  A brilliant blend of sharp humor and emotional...                 Inside  \n",
       "4  The 2021 Candyman may not be as scary as the o...               Candyman  "
      ]
     },
     "execution_count": 2,
     "metadata": {},
     "output_type": "execute_result"
    }
   ],
   "source": [
    "df = pd.read_pickle('../ingestion/rotten_tomatoes_training_df.pkl')\n",
    "print(df.shape)\n",
    "df.head()"
   ]
  },
  {
   "cell_type": "code",
   "execution_count": 3,
   "metadata": {},
   "outputs": [],
   "source": [
    "def truncate_reviews(text = list) -> str:\n",
    "    '''\n",
    "    take a list of reviews and return only n amount depending on desired char len\n",
    "    '''\n",
    "    text = text[:250]\n",
    "    text = ' '.join([str(t) for t in text])\n",
    "    return text"
   ]
  },
  {
   "cell_type": "code",
   "execution_count": 4,
   "metadata": {},
   "outputs": [],
   "source": [
    "df['text'] = df['reviews'].apply(lambda x: truncate_reviews(x))"
   ]
  },
  {
   "cell_type": "code",
   "execution_count": 5,
   "metadata": {},
   "outputs": [
    {
     "name": "stdout",
     "output_type": "stream",
     "text": [
      "(2152, 2)\n"
     ]
    },
    {
     "data": {
      "text/html": [
       "<div>\n",
       "<style scoped>\n",
       "    .dataframe tbody tr th:only-of-type {\n",
       "        vertical-align: middle;\n",
       "    }\n",
       "\n",
       "    .dataframe tbody tr th {\n",
       "        vertical-align: top;\n",
       "    }\n",
       "\n",
       "    .dataframe thead th {\n",
       "        text-align: right;\n",
       "    }\n",
       "</style>\n",
       "<table border=\"1\" class=\"dataframe\">\n",
       "  <thead>\n",
       "    <tr style=\"text-align: right;\">\n",
       "      <th></th>\n",
       "      <th>ctext</th>\n",
       "      <th>text</th>\n",
       "    </tr>\n",
       "  </thead>\n",
       "  <tbody>\n",
       "    <tr>\n",
       "      <th>0</th>\n",
       "      <td>A nerve-wracking continuation of its predecess...</td>\n",
       "      <td>Really tense throughout the movie, the sequenc...</td>\n",
       "    </tr>\n",
       "    <tr>\n",
       "      <th>1</th>\n",
       "      <td>Being the Ricardos can't hope to truly capture...</td>\n",
       "      <td>Nicole Kidman transforms herself into Lucile B...</td>\n",
       "    </tr>\n",
       "    <tr>\n",
       "      <th>2</th>\n",
       "      <td>A remarkable story brought to life with dazzli...</td>\n",
       "      <td>Very beautiful movie, masterpiece 🎆🌌🌠🎇 but def...</td>\n",
       "    </tr>\n",
       "    <tr>\n",
       "      <th>3</th>\n",
       "      <td>A claustrophobic masterclass in comedy and int...</td>\n",
       "      <td>This special is not for me but it is definetly...</td>\n",
       "    </tr>\n",
       "    <tr>\n",
       "      <th>4</th>\n",
       "      <td>Candyman takes an incisive, visually thrilling...</td>\n",
       "      <td>There are some really interesting ideas in thi...</td>\n",
       "    </tr>\n",
       "  </tbody>\n",
       "</table>\n",
       "</div>"
      ],
      "text/plain": [
       "                                               ctext  \\\n",
       "0  A nerve-wracking continuation of its predecess...   \n",
       "1  Being the Ricardos can't hope to truly capture...   \n",
       "2  A remarkable story brought to life with dazzli...   \n",
       "3  A claustrophobic masterclass in comedy and int...   \n",
       "4  Candyman takes an incisive, visually thrilling...   \n",
       "\n",
       "                                                text  \n",
       "0  Really tense throughout the movie, the sequenc...  \n",
       "1  Nicole Kidman transforms herself into Lucile B...  \n",
       "2  Very beautiful movie, masterpiece 🎆🌌🌠🎇 but def...  \n",
       "3  This special is not for me but it is definetly...  \n",
       "4  There are some really interesting ideas in thi...  "
      ]
     },
     "execution_count": 5,
     "metadata": {},
     "output_type": "execute_result"
    }
   ],
   "source": [
    "df = df[['critic_summary', 'text']]\n",
    "df.columns = ['ctext', 'text']\n",
    "print(df.shape)\n",
    "df.head()"
   ]
  },
  {
   "cell_type": "code",
   "execution_count": 6,
   "metadata": {},
   "outputs": [
    {
     "data": {
      "text/plain": [
       "\"Driven by Al Pacino and Robin Williams' performances, Insomnia is a smart and riveting psychological drama.\""
      ]
     },
     "execution_count": 6,
     "metadata": {},
     "output_type": "execute_result"
    }
   ],
   "source": [
    "df['ctext'].values[234]"
   ]
  },
  {
   "cell_type": "code",
   "execution_count": 23,
   "metadata": {},
   "outputs": [
    {
     "data": {
      "text/plain": [
       "'Watching Nolan\\'s final pre-Batman outing reveals a subtle finessing of his M.O. - not just thematically, but visually. Dormer has a weariness that Pacino wears perfectly, always finding some new depth to his exhaustion and despair without ever being a sleepy presence on screen. A deceptively run-of-the-mill cop thriller based round an ingenious psychological theme. ...evocative imagery, a compelling story, and one of Pacino\\'s best performances of the 21st century. Insomnia is not so much about the murder mystery as it is about Will\\'s internal struggle with what\\'s right and what\\'s possibly okay. Who allowed these performances, or maybe even encouraged them? Christopher Nolan, that\\'s who. He was so intent on dolloping pizazz onto this story that he didn\\'t notice the visual syrup was drowning a six-inch stack of toaster waffles. In the world of Christopher Nolan, memory is still as treacherous as nitroglycerin. Insomnia proves that Memento wasn\\'t a fluke: Nolan is a major talent with many more good films ahead of him. Nolan uses Pacino the icon as much as Pacino the actor, and the latter turns in one of his best performances, almost vanity free. The film represents a triumph of atmosphere over a none-too-mysterious mystery. Which is to say that Nolan makes you feel the end-of-the-earth bleakness of his setting, makes you feel the way it can discombobulate people once they internalize it. With a run-of-the-mill bad-guy actor playing chief suspect Walter Finch, the movie might have tipped too far Pacino\\'s way. But Robin Williams is a shockingly effective counterweight. Christopher Nolan\\'s Insomnia adds 11 minutes to the Norwegian movie of the same name and manages to make everything that was fleeting and tantalizing in the original weighty, literal and dull. Scene by scene, screenwriter Hillary Seitz follows director Erik Skjoldbjaerg\\'s original closely, but this remake deepens and improves upon the Norwegian film by giving Dormer a more complex relationship with Eckhart. A smart, intricately constructed thriller, the film has far more on its mind than just who done it. Not as audacious as Memento, Christopher Nolan\\'s first studio feature is nevertheless a confident and intelligent thriller that demonstrates a canny ability to fuse his own concerns with guilt, subjective experience and narrative to a mainstream package. This skilfully directed psychodrama from Christopher Nolan proves that hit European movies can be remade successfully. Christopher Nolan, the promising writer-director behind Following and Memento, makes an elegant and assured transfer to big-budget, star-driven film-making with Insomnia. Part mystery, part moral dilemma, but all seductively intriguing. Nolan uses visual pyrotechnics to pump up the tension and add to Pacino\\'s sense of disorientation, but the feeling he evokes isn\\'t as forlorn, creepy, or ambiguous as in the original (though the mountain wilderness is just as forbidding). This one is nowhere near as original -- it\\'s a flawed remake of a fine first feature from Norway -- but Insomnia still stands on its own as a thriller with brains and scenic beauty. A dark and fidgety picture from Christopher Nolan, who made such a splash with Memento. As Pacino endures day after day without a wink of sleep, Insomnia skillfully turns the screws, delving further into his troubled mind as it\\'s haunted by past and present sins, as well as deceptive visions that seem to bleed out of his conscience. The highlight is Pacino, who gives his best performance in years. A startlingly good thriller wrapped around a morality tale. Insomnia is a slow burn, and the European influences are very obvious in both pacing and tone. Despite its linear storyline, the film is very recognisably the work of the sharp, probing intelligence that gave us Following and Memento. While it may not be as stylistically idiosyncratic as Memento Insomnia is a gripping, highly dramatic thriller that more than confirms the distinctive talent of young Brit helmer Christopher Nolan. An exceptional picture from one of the most gifted British filmmakers to emerge in the past decade. ...if there is anything that spoils the fun, it\\'s the plot itself, which is too straightforward and offers too few surprises to be entirely engaging. Pacino can\\'t be accused of sleepwalking through Christopher Nolan\\'s brilliant Insomnia. This director has an unerring knack for arresting imagery and disorienting narrative. Director Christopher Nolan sure does like to mess with the senses. Fans of the original will miss its relentless dyspepsia, but Nolan\\'s intention was clearly to cast the material in a more conventional Hollywood mold without turning it into namby-pamby nonsense, and he succeeds admirably. The film is creepy, and not because of any one particular scene or moment, but because Nolan takes us, body and soul, into a place that all is illuminated all the time Ultimately, Nolan\\'s film asks the question: Do the ends justify the means? Dormer is willing to go to cover up the truth to bring about a result that is good for the world. Christopher Nolan\\'s impressive third film, after Following and Memento, deploys the idea of an all-pervasive light to befuddle the deductive process and expose the corruption of the soul. Never reaches its full potential, but still manages to be better than the average, run-of-the-mill crime thriller. Inteligente suspense que conta com ótimos diálogos e atuações deslumbrantes de Pacino e Williams. As cenas em que estes contracenam são geniais - e a fotografia e as locações são belíssimas. Pacino is on world-beating form and Williams delivers his best straight performance yet. Uno de los policiales más interesantes de los últimos tiempos. A classic example of a director bringing his own vision to the mainstream. Pacino gives one of the best performances I\\'ve seen him in; his sense of sleeplessness is infectuous, weighing down the entire proceeding with a kind of relentless fatigue. It grabs us with the premise and holds our attention and doesn\\'t let go. It\\'s not quite as ambiguous as the original, but it\\'s not a sell-out either. Good movie. What a fine film Insomnia is. Wonderfully good. At its core, a standard cop drama, complete with the climactic crescendo of violence. But by then we\\'re completely in its spell. Head and shoulders above the usual Hollywood thriller and that rare thing, a decent remake of a foreign film. Instead of being another by-the-numbers cop chases killer movie, it delves deeper into the central characters worlds and portrays neither as straight-out good guy or bad guy. There are \"strange things done in the midnight sun\" by a killer -- and by a cop -- in this taut remake from the director of Memento. The original is better, but this Insomnia won\\'t put you to sleep. Insomnia is not a flawless movie, but it is the kind of thriller that gets under your skin -- an effect that plenty of sleekly crafted films never manage to achieve. The pluses of the film are excellent cinematography and sound effects. The film is more interested in being a character study than using a complex web of events to gyp us around. This could this be The Big Sleep for a new generation. Insomnia is as satisfying as insomnia isn\\'t; even jaded film palates will love this sophisticated, well made and edgy psychological thriller.  A top-shelf thriller with one of the most robust and finely sketched dramatic arcs in recent memory... Insomnia is marked by an invigorating, deeply engrossing fluidity. Insomnia is a good movie that\\'s falsely convinced it\\'s a great one. The talented Nolan won\\'t need to lose any sleep over whether he lived up to expectations. Pacino is brilliant as the sleep-deprived Dormer, his increasing weariness as much existential as it is physical. It is SO involving that I actually left the theater literally feeling every bit as fatigued as the sleepless hero on screen. How many movies can do that? The screenplay by Hillary Seitz provides leading actors Robin Williams and Al Pacino with many big, challenging moments. It\\'s a crafty story told with more style and gray areas than your average thriller. Pacino captures the mind-boggled look of someone who has not achieved REM state in days. Held together by Al Pacino\\'s Oscar-worthy performance. A slow, moody, careful character study. It\\'s a thinking man\\'s movie in the blockbuster season and an excellent counterbalance to the comic thrills of Star Wars and Spider-Man. Insomnia is involving. Still, I thought it could have been more. Everything fits together and complements every other aspect of the film, from the visuals of the desolate landscape to the sharp editing to the moody music. Insomnia es la unión de dos hombres que desbordan talento, en un thriller policiaco. An artful, intelligent film that stays within the confines of a well-established genre. It\\'s paced well, filmed well, and acted well, and it looks like everyone managed to pick up their paychecks well, too. Takes the killer\\'s mind games with the detective to a disturbing level. Not since Seven has the bad guy so successfully undermined his pursuer\\'s moral center. Nolan shows that his achievement in Memento was no fluke, although this time around he plays it safer The strength in this lies in the performances, and while Al Pacino is doing yet another tired cop character which he\\'s become well known for he still is just utterly compelling to watch on screen. ...a noble nail-biter, a killer thriller than shows us that the fine battle lines between trusted cop and conniving criminal can be shaken and blurred...and thoroughly enjoyed. Al Pacino looks like absolute death in this movie, the first bona fide masterpiece of 2002. What I thought was another wacky adventure with Dave Attell turned out to be a thrilling and absorbing tale on moral and ethical decay. Robin plays the role of the killer with chilling logic and reason, which makes his performance all the more disturbing. A very powerful, thought-provoking film with lot of psychological depth. A worthy, if not particularly distinguished piece of entertainment. I was ready to check out about halfway through. It\\'s the fact that Nolan never forgets that he\\'s directing a thriller that truly makes Insomnia soar, since he invariably keeps the action moving in an entertaining and exciting manner. Even with all those rough edges safely sanded down, the American Insomnia is still pretty darned good. This movie may not keep you up at night, but it will keep you guessing until the very end. Director Nolan shows here he can handle clever material with a flair. Anyone who caught the original \"Insomnia\" will tell you Skjoldbjaerg did a solid job with this material. Nolan and his team, however, have taken the story to new heights. Summer Movie Season? Oscar Season! Its near brilliance comes in the way it makes use of its material, creating a picture that\\'s anything but run-of-the-mill. Seitz ... manages to preserve what gave the original film its power -- gravity, interiority and a sense of moral unease -- yet still endow the action with an enjoyable Hollywood sheen. Remarkable for its intelligence and intensity. If Insomnia proves anything, it\\'s that Christopher Nolan is just as good at telling stories moving forward as he is at telling them in reverse. Insomnia is not my kind of arsenic, but it\\'s so well-made and enigmatic I liked it anyway. Not only is Insomnia one of the most intense police procedurals ever filmed, it\\'s also one of the most riveting moral dramas I\\'ve ever seen. The Hollywood version (which is half an hour longer) transports the action to Alaska, and works up a respectable level of bleary-eyed paranoia.  If you saw the Norwegian version there\\'s no compelling reason to see this weaker one. Nolan has not made a poor movie... but he has made a poor remake. A psychologically rich and suspenseful moral thriller with a stellar performance by Al Pacino. The best thing about Insomnia is that despite director Christopher Nolan\\'s soft spot for moody-blues obfuscation, he has the good sense to keep his star in practically every shot. Nolan proves that he can cross swords with the best of them and helm a more traditionally plotted popcorn thriller while surrendering little of his intellectual rigor or creative composure. A skillfully complex and engrossing character study...A challenging piece of work that does not just thrill, but provokes thought out of its attentive evocations. The tense interplay between Pacino and Williams alone makes the film worth watching. A film that manages to be intimate and heart-rending as often as it is cold-blooded.  Insomnia loses points when it surrenders to a formulaic bang-bang, shoot-em-up scene at the conclusion. But the performances of Pacino, Williams, and Swank keep the viewer wide-awake all the way through. Insomnia certainly won\\'t put you to sleep. With his tight pacing and sure handling of the psychological drama, director Nolan proves that, unlike his Memento hero, he\\'s here for the long term. Robin Williams is cooler than a frozen cod in his most menacing part since Mrs. Doubtfire. The Hollywood remake feels oddly castrated when compared to the original. Registers as a superb, intricate, emotional thriller, complete with an ending that complements the film\\'s intelligence. A thriller whose style, structure and rhythms are so integrated with the story, you cannot separate them. You see Robin Williams and psycho killer, and you think, hmmmmm. You see the movie and you think, zzzzzzzzz. This remake gets all there is to get out of a peculiar premise with promise: Al Pacino loathing Robin Williams. Continually challenges perceptions of guilt and innocence, of good guys and bad, and asks us whether a noble end can justify evil means. It proves quite compelling as an intense, brooding character study. Pacino, his creased face looking like it\\'s been aged in a smokehouse, is wonderfully bleary as the increasingly confused Dormer. The film is a solid, character-driven piece, with a terrific visual look and a good score, but it\\'s not quite the brilliant, edge of your seat thriller that it seems it also wants to be. A haunting psychological drama. A fairly classy thriller. Here\\'s proof that it\\'s still possible to make pop-oriented yet personal movies with an A-list cast and a zillion bucks. It\\'ll keep you wide awake and ... very tense. An impressive follow-up to Memento and confirms the director\\'s considerable promise. Nolan delivers a psychological thriller that is taut with suspense and visually stunning, even if it doesn\\'t exactly break new ground. A pretty good thriller, with three Oscar winners doing good work, especially Pacino. With Insomnia, his third feature, Nolan, 32, has proven himself a precocious master of the thriller. A taut, fully realized thriller that\\'s destined for canonization by suspense buffs and Art-heads alike. The film contains what might be Pacino\\'s best work ever. That rare instance where Hollywood improves upon a movie from foreign soil. A four-course gourmet alternative to summer popcorn flicks, serving up the meatiest performances Al Pacino and Robin Williams have given in many years. Given all the resources in the world, Nolan, a director-for-hire here, responds by stretching his legs rather than his imagination. Proves the 32-year-old Nolan is the real deal, a gifted storyteller who knows how to use style, mood and composition to illustrate his characters\\' inner lives along with their actions. Seitz\\'s script sticks closely to the original, but Nolan has had no trouble using a variety of skills to make the material his own. Insomnia does not become one of those rare remakes to eclipse the original, but it doesn\\'t disgrace it, either. A psychological thriller with a smart script and an obsessive-compulsive\\'s attention to detail. A nightmarish thriller that continues to haunt the viewer long after the film\\'s shocking and disturbing climax unfolds. It\\'s gripping entertainment in a popular vein -- the police procedural -- that nevertheless follows no preconceived formulas. We\\'ve got three Oscar-winning actors here and everybody does amazing work. When all else is said and done, Insomnia runs on the pure adrenalin of Pacino\\'s performance. [Nolan] is a filmmaker in full control of mood, tone, and pacing, to whom actors as wildly different as Pacino and Williams can entrust their best instincts, rather than their showiest. A very deliberate, stylish and precise game of psychological thrills that\\'ll keep your head spinning and your eyes squinting until the end. Atmospheric and deeply attuned to nuance, Insomnia is a thinking ticket buyer\\'s murder mystery. This English-language redo actually manages to better flesh out the characters and explain some fuzzy motivations, which makes it a definite improvement on the original. Nolan and cinematographer Wally Pfister know how to mix riveting action with psychological drama. Williams\\' devious, subtly psychotic turn here is some of the finest work of his career, and beautifully matches, in their scenes together, Pacino\\'s uncharacteristically whispery portrayal of a man losing every one of his bearings. Nolan is a craftsman who joins the ranks of Steven Soderbergh, David O. Russell, Curtis Hanson, and M. Night Shyamalan as an individual voice working within the Hollywood system. Pacino hasn\\'t been this good in ages, dropping his usual mannerisms to dig deep into his multi-layered character, and Williams makes a chillingly serene psycho. Unlike most remakes, the Nolan Insomnia is not a pale retread, but a re-examination of the material, like a new production of a good play. A superior version of an already very good film. It\\'s a psychological thriller with actual thrills and actual psychology. In a movie brimming with visual flair, Nolan also leaves room for his actors. Pacino and Williams seem to keep upping the ante on each other, just as their characters do in the film. What results is the best performance from either in years. Bristles with menace and a bleak, ambiguous morality that sets it far above the usual summer crop of murder-by-number thrillers. An excellent film. Insomnia is one of the year\\'s best films and Pacino gives one of his most daring, and complicated, performances.  Gripping and forceful. There\\'s nothing extremely wrong with this piece, but there\\'s nothing terribly right about it, either. Sans hoo-ha!, [Pacino] gives a perversely compelling performance, part devious, part fearful, and part ravaged. Without the benefit of a clever narrative device, Christopher Nolan\\'s left with his merely adequate skill as a filmmaker to breathe life into a generic police procedural. A complex, thoughtful thriller. At least you can care about the characters and the events &#151; something I couldn&#8217;t say after watching Memento, for all its brilliant storytelling. There\\'s nothing provocative about this film save for the ways in which it studiously avoids provoking thought. Pacino\\'s Will Dormer, taciturn and tormented Los Angeles cop, is his best performance in years. One of the most satisfying crime thrillers in years. See it. And then give the original a rent. It\\'s only fair. Pacino slips in and out of a Southern accent so badly it seems like a joke he\\'s pulling on us... Robin Williams plays Mork on heroin. meanders between its powerful moments. Intensely sharp-witted remake of the noir thriller Insomnia. Nolan bravely treads where few American films dare to delve -- into the world of ambivalence and ambiguity... It proves that both Al Pacino and Robin Williams really can act without overacting. It also shows that director Christopher Nolan has a life after Memento. It\\'s a cat-and-mouse game, but Insomnia feels original because Pacino is both cat and mouse. A really good movie. An intelligent cat and mouse thriller with Pacino and Williams taking turns at being the cat. Nolan has proved that he\\'s as adept with a straightforward and well-plotted thriller as he is with a idiosyncratic, ingenious one. How often can you say a remake is better than the original, especially a Hollywood remodeling of a quirky foreign film? The acting alone is worth the price of admission. Nolan has crafted a first-rate, but far more conventional, thriller. Proves the best (read: most unsettling) of its type since The Pledge. Pacino fans ought to go nuts for this performance, since it\\'s one of his best in years. A deftly entertaining film, smartly played and smartly directed.'"
      ]
     },
     "execution_count": 23,
     "metadata": {},
     "output_type": "execute_result"
    }
   ],
   "source": [
    "df['text'].values[234]"
   ]
  },
  {
   "cell_type": "markdown",
   "metadata": {},
   "source": [
    "## Model building "
   ]
  },
  {
   "cell_type": "code",
   "execution_count": 8,
   "metadata": {
    "id": "WtI92WcVHrCb"
   },
   "outputs": [],
   "source": [
    "class T5Finetuner(pl.LightningModule):\n",
    "    '''\n",
    "    Documentation-In-Progress\n",
    "    '''\n",
    "\n",
    "    def __init__(self, df = pd.DataFrame , bs = int):\n",
    "        super().__init__()\n",
    "        self.save_hyperparameters()\n",
    "        self.source_len = 512\n",
    "        self.summ_len = 200\n",
    "        self.lr = .0001\n",
    "        self.bs = 8\n",
    "        self.num_workers = 8\n",
    "        self.model = T5ForConditionalGeneration.from_pretrained(MODEL_NAME)\n",
    "        self.tokenizer = T5Tokenizer.from_pretrained(MODEL_NAME)\n",
    "        self.data = df\n",
    "        self.scorer = rouge_scorer.RougeScorer(['rouge1', 'rouge2', 'rougeL'], use_stemmer=True)\n",
    "        self.output = 'temp/'\n",
    "        self.name = 'test'\n",
    "\n",
    "    def encode_text(self, context, text):\n",
    "        ctext = str(context) # context text \n",
    "        ctext = ' '.join(ctext.split())\n",
    "        text = str(text) # summarized text\n",
    "        text = ' '.join(text.split())\n",
    "        source = self.tokenizer.batch_encode_plus([ctext], \n",
    "                                                max_length= self.source_len, \n",
    "                                                truncation=True,\n",
    "                                                padding='max_length',\n",
    "                                                return_tensors='pt')\n",
    "        target = self.tokenizer.batch_encode_plus([text], \n",
    "                                                max_length= self.summ_len,\n",
    "                                                truncation=True,\n",
    "                                                padding='max_length',\n",
    "                                                return_tensors='pt')\n",
    "        y = target['input_ids']\n",
    "        target_id = y[:, :-1].contiguous()\n",
    "        target_label = y[:, 1:].clone().detach()\n",
    "        target_label[y[:, 1:] == self.tokenizer.pad_token_id] = -100 #edge-case  handling when no labels are there\n",
    "        return source['input_ids'], source['attention_mask'], target_id, target_label\n",
    "    \n",
    "    def prepare_data(self):\n",
    "        source_ids, source_masks, target_ids, target_labels = [], [], [], [] \n",
    "        for _, row in self.data.iterrows():\n",
    "            source_id, source_mask, target_id, target_label = self.encode_text(row.ctext, row.text)\n",
    "            source_ids.append(source_id)\n",
    "            source_masks.append(source_mask)\n",
    "            target_ids.append(target_id)\n",
    "            target_labels.append(target_label)\n",
    "\n",
    "        # Transforming lists into tensors\n",
    "        source_ids = torch.cat(source_ids, dim=0)\n",
    "        source_masks = torch.cat(source_masks, dim=0)\n",
    "        target_ids = torch.cat(target_ids, dim=0)\n",
    "        target_labels = torch.cat(target_labels, dim=0)\n",
    "        # Splitting data into standard train, val, and test sets \n",
    "        data = TensorDataset(source_ids, source_masks, target_ids, target_labels)\n",
    "        train_size, val_size = int(0.8 * len(data)), int(0.1 * len(data))\n",
    "        test_size = len(data) - (train_size + val_size)\n",
    "        self.train_dat, self.val_dat, self.test_dat = \\\n",
    "            random_split(data, [train_size, val_size, test_size])\n",
    "    \n",
    "    def forward(self, batch, batch_idx):\n",
    "        source_ids, source_mask, target_ids, target_labels = batch[:4]\n",
    "        return self.model(\n",
    "            input_ids = source_ids, \n",
    "            attention_mask = source_mask, \n",
    "            decoder_input_ids=target_ids, \n",
    "            labels=target_labels\n",
    "        )\n",
    "        \n",
    "    def training_step(self, batch, batch_idx):\n",
    "        loss = self(batch, batch_idx)[0]\n",
    "        self.log('train loss', loss, prog_bar = True, logger = True)\n",
    "        return {'loss': loss, 'log': {'train_loss': loss}}\n",
    "\n",
    "    def validation_step(self, batch, batch_idx):\n",
    "        loss = self(batch, batch_idx)[0]\n",
    "        self.log('valid loss', loss, prog_bar = True, logger = True)\n",
    "        return {'loss': loss}\n",
    "\n",
    "    def validation_epoch_end(self, outputs): \n",
    "        loss = sum([o['loss'] for o in outputs]) / len(outputs)\n",
    "        out = {'val_loss': loss}\n",
    "        return {**out, 'log': out}\n",
    "\n",
    "    def test_step(self, batch, batch_idx):\n",
    "        loss = self(batch, batch_idx)[0]\n",
    "        self.log('test loss', loss, prog_bar = True, logger = True)\n",
    "        return {'loss': loss}\n",
    "\n",
    "    def test_epoch_end(self, outputs):\n",
    "        loss = sum([o['loss'] for o in outputs]) / len(outputs)\n",
    "        out = {'test_loss': loss}\n",
    "        return {**out, 'log': out}\n",
    "    \n",
    "    def train_dataloader(self):\n",
    "        return DataLoader(\n",
    "            self.train_dat,\n",
    "            batch_size=self.bs,\n",
    "            num_workers=self.num_workers, \n",
    "            sampler=RandomSampler(self.train_dat)\n",
    "        )\n",
    "\n",
    "    def val_dataloader(self):\n",
    "        return DataLoader(\n",
    "            self.val_dat, \n",
    "            batch_size=self.bs, \n",
    "            num_workers=self.num_workers,\n",
    "            sampler=SequentialSampler(self.val_dat)\n",
    "        )\n",
    "\n",
    "    def test_dataloader(self):\n",
    "        return DataLoader(\n",
    "            self.test_dat, \n",
    "            batch_size=self.bs, \n",
    "            num_workers=self.num_workers,\n",
    "            sampler=SequentialSampler(self.test_dat)\n",
    "        )    \n",
    "\n",
    "    def configure_optimizers(self):\n",
    "        optimizer = AdamW(self.model.parameters(), lr=self.lr, eps=1e-4)\n",
    "        return {'optimizer': optimizer}\n",
    "    \n",
    "    def save_core_model(self):\n",
    "        store_path = join(self.output, self.name, 'core')\n",
    "        self.model.save_pretrained(store_path)\n",
    "        self.tokenizer.save_pretrained(store_path)"
   ]
  },
  {
   "cell_type": "code",
   "execution_count": 9,
   "metadata": {},
   "outputs": [],
   "source": [
    "class MetricsCallback(pl.Callback):\n",
    "    def __init__(self):\n",
    "        super().__init__()\n",
    "        self.metrics = []\n",
    "\n",
    "    def on_validation_end(self, trainer, pl_module):\n",
    "        self.metrics.append(trainer.callback_metrics)"
   ]
  },
  {
   "cell_type": "markdown",
   "metadata": {},
   "source": [
    "## Selecting model name "
   ]
  },
  {
   "cell_type": "code",
   "execution_count": 10,
   "metadata": {},
   "outputs": [],
   "source": [
    "#######################\n",
    "MODEL_NAME = 't5-base'\n",
    "#######################\n",
    "num_epochs = 20\n",
    "batch_size = 5\n",
    "tokenizer = T5Tokenizer.from_pretrained(MODEL_NAME)\n",
    "model = T5Finetuner(df = df, bs = batch_size)"
   ]
  },
  {
   "cell_type": "markdown",
   "metadata": {},
   "source": [
    "## Loading tensorboard for logging "
   ]
  },
  {
   "cell_type": "code",
   "execution_count": 11,
   "metadata": {},
   "outputs": [
    {
     "data": {
      "text/html": [
       "\n",
       "      <iframe id=\"tensorboard-frame-a3a59a3c98208e70\" width=\"100%\" height=\"800\" frameborder=\"0\">\n",
       "      </iframe>\n",
       "      <script>\n",
       "        (function() {\n",
       "          const frame = document.getElementById(\"tensorboard-frame-a3a59a3c98208e70\");\n",
       "          const url = new URL(\"/\", window.location);\n",
       "          const port = 7000;\n",
       "          if (port) {\n",
       "            url.port = port;\n",
       "          }\n",
       "          frame.src = url;\n",
       "        })();\n",
       "      </script>\n",
       "    "
      ],
      "text/plain": [
       "<IPython.core.display.HTML object>"
      ]
     },
     "metadata": {},
     "output_type": "display_data"
    }
   ],
   "source": [
    "%load_ext tensorboard\n",
    "%tensorboard --logdir ./lightning_logs --host localhost --port 7000"
   ]
  },
  {
   "cell_type": "code",
   "execution_count": 12,
   "metadata": {},
   "outputs": [
    {
     "name": "stderr",
     "output_type": "stream",
     "text": [
      "C:\\Users\\megra\\anaconda3\\envs\\textsum_env\\lib\\site-packages\\pytorch_lightning\\trainer\\connectors\\callback_connector.py:147: LightningDeprecationWarning: Setting `Trainer(checkpoint_callback=<pytorch_lightning.callbacks.model_checkpoint.ModelCheckpoint object at 0x00000173FF6EB6D0>)` is deprecated in v1.5 and will be removed in v1.7. Please consider using `Trainer(enable_checkpointing=<pytorch_lightning.callbacks.model_checkpoint.ModelCheckpoint object at 0x00000173FF6EB6D0>)`.\n",
      "  rank_zero_deprecation(\n",
      "GPU available: True, used: True\n",
      "TPU available: False, using: 0 TPU cores\n",
      "IPU available: False, using: 0 IPUs\n"
     ]
    }
   ],
   "source": [
    "experiment_name = 'fine_tuning_text_summarizer_rt_v_0_2'\n",
    "\n",
    "checkpoint_callback = ModelCheckpoint(\n",
    "    dirpath = 'checkpoints', \n",
    "    filename = 'best-checkpoint', \n",
    "    save_top_k = 1, \n",
    "    verbose = True, \n",
    "    monitor = 'val_loss', \n",
    "    mode= 'min', \n",
    ")\n",
    "\n",
    "logger = TensorBoardLogger('lightning_logs', name  = experiment_name) \n",
    "\n",
    "trainer = pl.Trainer(\n",
    "    logger = logger, \n",
    "    checkpoint_callback = checkpoint_callback, \n",
    "    max_epochs = num_epochs, \n",
    "    gpus = 1)"
   ]
  },
  {
   "cell_type": "code",
   "execution_count": 13,
   "metadata": {},
   "outputs": [
    {
     "name": "stderr",
     "output_type": "stream",
     "text": [
      "LOCAL_RANK: 0 - CUDA_VISIBLE_DEVICES: [0]\n",
      "\n",
      "  | Name  | Type                       | Params\n",
      "-----------------------------------------------------\n",
      "0 | model | T5ForConditionalGeneration | 222 M \n",
      "-----------------------------------------------------\n",
      "222 M     Trainable params\n",
      "0         Non-trainable params\n",
      "222 M     Total params\n",
      "891.614   Total estimated model params size (MB)\n"
     ]
    },
    {
     "data": {
      "application/vnd.jupyter.widget-view+json": {
       "model_id": "",
       "version_major": 2,
       "version_minor": 0
      },
      "text/plain": [
       "Validation sanity check: 0it [00:00, ?it/s]"
      ]
     },
     "metadata": {},
     "output_type": "display_data"
    },
    {
     "data": {
      "application/vnd.jupyter.widget-view+json": {
       "model_id": "0894e78c8e8a41f2afee69c82a2f7e67",
       "version_major": 2,
       "version_minor": 0
      },
      "text/plain": [
       "Training: 0it [00:00, ?it/s]"
      ]
     },
     "metadata": {},
     "output_type": "display_data"
    },
    {
     "name": "stderr",
     "output_type": "stream",
     "text": [
      "C:\\Users\\megra\\anaconda3\\envs\\textsum_env\\lib\\site-packages\\pytorch_lightning\\loops\\optimization\\closure.py:35: LightningDeprecationWarning: One of the returned values {'log'} has a `grad_fn`. We will detach it automatically but this behaviour will change in v1.6. Please detach it manually: `return {'loss': ..., 'something': something.detach()}`\n",
      "  rank_zero_deprecation(\n"
     ]
    },
    {
     "data": {
      "application/vnd.jupyter.widget-view+json": {
       "model_id": "",
       "version_major": 2,
       "version_minor": 0
      },
      "text/plain": [
       "Validating: 0it [00:00, ?it/s]"
      ]
     },
     "metadata": {},
     "output_type": "display_data"
    },
    {
     "data": {
      "application/vnd.jupyter.widget-view+json": {
       "model_id": "",
       "version_major": 2,
       "version_minor": 0
      },
      "text/plain": [
       "Validating: 0it [00:00, ?it/s]"
      ]
     },
     "metadata": {},
     "output_type": "display_data"
    },
    {
     "data": {
      "application/vnd.jupyter.widget-view+json": {
       "model_id": "",
       "version_major": 2,
       "version_minor": 0
      },
      "text/plain": [
       "Validating: 0it [00:00, ?it/s]"
      ]
     },
     "metadata": {},
     "output_type": "display_data"
    },
    {
     "data": {
      "application/vnd.jupyter.widget-view+json": {
       "model_id": "",
       "version_major": 2,
       "version_minor": 0
      },
      "text/plain": [
       "Validating: 0it [00:00, ?it/s]"
      ]
     },
     "metadata": {},
     "output_type": "display_data"
    },
    {
     "data": {
      "application/vnd.jupyter.widget-view+json": {
       "model_id": "",
       "version_major": 2,
       "version_minor": 0
      },
      "text/plain": [
       "Validating: 0it [00:00, ?it/s]"
      ]
     },
     "metadata": {},
     "output_type": "display_data"
    },
    {
     "data": {
      "application/vnd.jupyter.widget-view+json": {
       "model_id": "",
       "version_major": 2,
       "version_minor": 0
      },
      "text/plain": [
       "Validating: 0it [00:00, ?it/s]"
      ]
     },
     "metadata": {},
     "output_type": "display_data"
    },
    {
     "data": {
      "application/vnd.jupyter.widget-view+json": {
       "model_id": "",
       "version_major": 2,
       "version_minor": 0
      },
      "text/plain": [
       "Validating: 0it [00:00, ?it/s]"
      ]
     },
     "metadata": {},
     "output_type": "display_data"
    },
    {
     "data": {
      "application/vnd.jupyter.widget-view+json": {
       "model_id": "",
       "version_major": 2,
       "version_minor": 0
      },
      "text/plain": [
       "Validating: 0it [00:00, ?it/s]"
      ]
     },
     "metadata": {},
     "output_type": "display_data"
    },
    {
     "data": {
      "application/vnd.jupyter.widget-view+json": {
       "model_id": "",
       "version_major": 2,
       "version_minor": 0
      },
      "text/plain": [
       "Validating: 0it [00:00, ?it/s]"
      ]
     },
     "metadata": {},
     "output_type": "display_data"
    },
    {
     "data": {
      "application/vnd.jupyter.widget-view+json": {
       "model_id": "",
       "version_major": 2,
       "version_minor": 0
      },
      "text/plain": [
       "Validating: 0it [00:00, ?it/s]"
      ]
     },
     "metadata": {},
     "output_type": "display_data"
    },
    {
     "data": {
      "application/vnd.jupyter.widget-view+json": {
       "model_id": "",
       "version_major": 2,
       "version_minor": 0
      },
      "text/plain": [
       "Validating: 0it [00:00, ?it/s]"
      ]
     },
     "metadata": {},
     "output_type": "display_data"
    },
    {
     "data": {
      "application/vnd.jupyter.widget-view+json": {
       "model_id": "",
       "version_major": 2,
       "version_minor": 0
      },
      "text/plain": [
       "Validating: 0it [00:00, ?it/s]"
      ]
     },
     "metadata": {},
     "output_type": "display_data"
    },
    {
     "data": {
      "application/vnd.jupyter.widget-view+json": {
       "model_id": "",
       "version_major": 2,
       "version_minor": 0
      },
      "text/plain": [
       "Validating: 0it [00:00, ?it/s]"
      ]
     },
     "metadata": {},
     "output_type": "display_data"
    },
    {
     "data": {
      "application/vnd.jupyter.widget-view+json": {
       "model_id": "",
       "version_major": 2,
       "version_minor": 0
      },
      "text/plain": [
       "Validating: 0it [00:00, ?it/s]"
      ]
     },
     "metadata": {},
     "output_type": "display_data"
    },
    {
     "data": {
      "application/vnd.jupyter.widget-view+json": {
       "model_id": "",
       "version_major": 2,
       "version_minor": 0
      },
      "text/plain": [
       "Validating: 0it [00:00, ?it/s]"
      ]
     },
     "metadata": {},
     "output_type": "display_data"
    },
    {
     "data": {
      "application/vnd.jupyter.widget-view+json": {
       "model_id": "",
       "version_major": 2,
       "version_minor": 0
      },
      "text/plain": [
       "Validating: 0it [00:00, ?it/s]"
      ]
     },
     "metadata": {},
     "output_type": "display_data"
    },
    {
     "data": {
      "application/vnd.jupyter.widget-view+json": {
       "model_id": "",
       "version_major": 2,
       "version_minor": 0
      },
      "text/plain": [
       "Validating: 0it [00:00, ?it/s]"
      ]
     },
     "metadata": {},
     "output_type": "display_data"
    },
    {
     "data": {
      "application/vnd.jupyter.widget-view+json": {
       "model_id": "",
       "version_major": 2,
       "version_minor": 0
      },
      "text/plain": [
       "Validating: 0it [00:00, ?it/s]"
      ]
     },
     "metadata": {},
     "output_type": "display_data"
    },
    {
     "data": {
      "application/vnd.jupyter.widget-view+json": {
       "model_id": "",
       "version_major": 2,
       "version_minor": 0
      },
      "text/plain": [
       "Validating: 0it [00:00, ?it/s]"
      ]
     },
     "metadata": {},
     "output_type": "display_data"
    },
    {
     "data": {
      "application/vnd.jupyter.widget-view+json": {
       "model_id": "",
       "version_major": 2,
       "version_minor": 0
      },
      "text/plain": [
       "Validating: 0it [00:00, ?it/s]"
      ]
     },
     "metadata": {},
     "output_type": "display_data"
    }
   ],
   "source": [
    "trainer.fit(model)"
   ]
  },
  {
   "cell_type": "markdown",
   "metadata": {},
   "source": [
    "## Loading best model in training "
   ]
  },
  {
   "cell_type": "code",
   "execution_count": 14,
   "metadata": {},
   "outputs": [],
   "source": [
    "trained_model = T5Finetuner.load_from_checkpoint(trainer.checkpoint_callback.best_model_path)"
   ]
  },
  {
   "cell_type": "code",
   "execution_count": 28,
   "metadata": {},
   "outputs": [
    {
     "data": {
      "text/plain": [
       "'lightning_logs\\\\fine_tuning_text_summarizer_rt_v_0_2\\\\version_0\\\\checkpoints\\\\epoch=19-step=4319.ckpt'"
      ]
     },
     "execution_count": 28,
     "metadata": {},
     "output_type": "execute_result"
    }
   ],
   "source": [
    "import joblib\n",
    "experiment_name = 'fine_tuning_text_summarizer_rt_v_0_2'\n",
    "joblib.dump(model_path, f'model_path_{experiment_name}.txt') #NOTE:this can go in a config for for inference .py's\n",
    "trainer.checkpoint_callback.best_model_path"
   ]
  },
  {
   "cell_type": "code",
   "execution_count": 16,
   "metadata": {},
   "outputs": [],
   "source": [
    "trained_model.freeze()"
   ]
  },
  {
   "cell_type": "markdown",
   "metadata": {},
   "source": [
    "## Inference "
   ]
  },
  {
   "cell_type": "code",
   "execution_count": 20,
   "metadata": {},
   "outputs": [
    {
     "name": "stdout",
     "output_type": "stream",
     "text": [
      "~~~ Original text: \n",
      "\n",
      " Driven by Al Pacino and Robin Williams' performances, Insomnia is a smart and riveting psychological drama. \n",
      "\n",
      "\n",
      " ~~~ Summary: \n",
      "\n",
      " Watching Nolan's final pre-Batman outing reveals a subtle finessing of his M.O. - not just thematically, but visually. Dormer has a weariness that Pacino wears perfectly, always finding some new depth to his exhaustion and despair without ever being a sleepy presence on screen. A deceptively run-of-the-mill cop thriller based round an ingenious psychological theme. ...evocative imagery, a compelling story, and one of Pacino's best performances of the 21st century. Insomnia is not so much about the murder mystery as it is about Will's internal struggle with what's right and what's possibly okay. Who allowed these performances, or maybe even encouraged them? Christopher Nolan, that's who. He was so intent on dolloping pizazz onto this story that he didn't notice the visual syrup was drowning a six-inch stack of toaster waffles. In the world of Christopher Nolan, memory is still as treacherous as nitroglycerin. Insomnia proves that Memento wasn't a fluke: Nolan is a major talent with many more good films ahead of him. Nolan uses Pacino the icon as much as Pacino the actor, and the latter turns in one of his best performances, almost vanity free. The film represents a triumph of atmosphere over a none-too-mysterious mystery. Which is to say that Nolan makes you feel the end-of-the-earth bleakness of his setting, makes you feel the way it can discombobulate people once they internalize it. With a run-of-the-mill bad-guy actor playing chief suspect Walter Finch, the movie might have tipped too far Pacino's way. But Robin Williams is a shockingly effective counterweight. Christopher Nolan's Insomnia adds 11 minutes to the Norwegian movie of the same name and manages to make everything that was fleeting and tantalizing in the original weighty, literal and dull. Scene by scene, screenwriter Hillary Seitz follows director Erik Skjoldbjaerg's original closely, but this remake deepens and improves upon the Norwegian film by giving Dormer a more complex relationship with Eckhart. A smart, intricately constructed thriller, the film has far more on its mind than just who done it. Not as audacious as Memento, Christopher Nolan's first studio feature is nevertheless a confident and intelligent thriller that demonstrates a canny ability to fuse his own concerns with guilt, subjective experience and narrative to a mainstream package. This skilfully directed psychodrama from Christopher Nolan proves that hit European movies can be remade successfully. Christopher Nolan, the promising writer-director behind Following and Memento, makes an elegant and assured transfer to big-budget, star-driven film-making with Insomnia. Part mystery, part moral dilemma, but all seductively intriguing. Nolan uses visual pyrotechnics to pump up the tension and add to Pacino's sense of disorientation, but the feeling he evokes isn't as forlorn, creepy, or ambiguous as in the original (though the mountain wilderness is just as forbidding). This one is nowhere near as original -- it's a flawed remake of a fine first feature from Norway -- but Insomnia still stands on its own as a thriller with brains and scenic beauty. A dark and fidgety picture from Christopher Nolan, who made such a splash with Memento. As Pacino endures day after day without a wink of sleep, Insomnia skillfully turns the screws, delving further into his troubled mind as it's haunted by past and present sins, as well as deceptive visions that seem to bleed out of his conscience. The highlight is Pacino, who gives his best performance in years. A startlingly good thriller wrapped around a morality tale. Insomnia is a slow burn, and the European influences are very obvious in both pacing and tone. Despite its linear storyline, the film is very recognisably the work of the sharp, probing intelligence that gave us Following and Memento. While it may not be as stylistically idiosyncratic as Memento Insomnia is a gripping, highly dramatic thriller that more than confirms the distinctive talent of young Brit helmer Christopher Nolan. An exceptional picture from one of the most gifted British filmmakers to emerge in the past decade. ...if there is anything that spoils the fun, it's the plot itself, which is too straightforward and offers too few surprises to be entirely engaging. Pacino can't be accused of sleepwalking through Christopher Nolan's brilliant Insomnia. This director has an unerring knack for arresting imagery and disorienting narrative. Director Christopher Nolan sure does like to mess with the senses. Fans of the original will miss its relentless dyspepsia, but Nolan's intention was clearly to cast the material in a more conventional Hollywood mold without turning it into namby-pamby nonsense, and he succeeds admirably. The film is creepy, and not because of any one particular scene or moment, but because Nolan takes us, body and soul, into a place that all is illuminated all the time Ultimately, Nolan's film asks the question: Do the ends justify the means? Dormer is willing to go to cover up the truth to bring about a result that is good for the world. Christopher Nolan's impressive third film, after Following and Memento, deploys the idea of an all-pervasive light to befuddle the deductive process and expose the corruption of the soul. Never reaches its full potential, but still manages to be better than the average, run-of-the-mill crime thriller. Inteligente suspense que conta com ótimos diálogos e atuações deslumbrantes de Pacino e Williams. As cenas em que estes contracenam são geniais - e a fotografia e as locações são belíssimas. Pacino is on world-beating form and Williams delivers his best straight performance yet. Uno de los policiales más interesantes de los últimos tiempos. A classic example of a director bringing his own vision to the mainstream. Pacino gives one of the best performances I've seen him in; his sense of sleeplessness is infectuous, weighing down the entire proceeding with a kind of relentless fatigue. It grabs us with the premise and holds our attention and doesn't let go. It's not quite as ambiguous as the original, but it's not a sell-out either. Good movie. What a fine film Insomnia is. Wonderfully good. At its core, a standard cop drama, complete with the climactic crescendo of violence. But by then we're completely in its spell. Head and shoulders above the usual Hollywood thriller and that rare thing, a decent remake of a foreign film. Instead of being another by-the-numbers cop chases killer movie, it delves deeper into the central characters worlds and portrays neither as straight-out good guy or bad guy. There are \"strange things done in the midnight sun\" by a killer -- and by a cop -- in this taut remake from the director of Memento. The original is better, but this Insomnia won't put you to sleep. Insomnia is not a flawless movie, but it is the kind of thriller that gets under your skin -- an effect that plenty of sleekly crafted films never manage to achieve. The pluses of the film are excellent cinematography and sound effects. The film is more interested in being a character study than using a complex web of events to gyp us around. This could this be The Big Sleep for a new generation. Insomnia is as satisfying as insomnia isn't; even jaded film palates will love this sophisticated, well made and edgy psychological thriller.  A top-shelf thriller with one of the most robust and finely sketched dramatic arcs in recent memory... Insomnia is marked by an invigorating, deeply engrossing fluidity. Insomnia is a good movie that's falsely convinced it's a great one. The talented Nolan won't need to lose any sleep over whether he lived up to expectations. Pacino is brilliant as the sleep-deprived Dormer, his increasing weariness as much existential as it is physical. It is SO involving that I actually left the theater literally feeling every bit as fatigued as the sleepless hero on screen. How many movies can do that? The screenplay by Hillary Seitz provides leading actors Robin Williams and Al Pacino with many big, challenging moments. It's a crafty story told with more style and gray areas than your average thriller. Pacino captures the mind-boggled look of someone who has not achieved REM state in days. Held together by Al Pacino's Oscar-worthy performance. A slow, moody, careful character study. It's a thinking man's movie in the blockbuster season and an excellent counterbalance to the comic thrills of Star Wars and Spider-Man. Insomnia is involving. Still, I thought it could have been more. Everything fits together and complements every other aspect of the film, from the visuals of the desolate landscape to the sharp editing to the moody music. Insomnia es la unión de dos hombres que desbordan talento, en un thriller policiaco. An artful, intelligent film that stays within the confines of a well-established genre. It's paced well, filmed well, and acted well, and it looks like everyone managed to pick up their paychecks well, too. Takes the killer's mind games with the detective to a disturbing level. Not since Seven has the bad guy so successfully undermined his pursuer's moral center. Nolan shows that his achievement in Memento was no fluke, although this time around he plays it safer The strength in this lies in the performances, and while Al Pacino is doing yet another tired cop character which he's become well known for he still is just utterly compelling to watch on screen. ...a noble nail-biter, a killer thriller than shows us that the fine battle lines between trusted cop and conniving criminal can be shaken and blurred...and thoroughly enjoyed. Al Pacino looks like absolute death in this movie, the first bona fide masterpiece of 2002. What I thought was another wacky adventure with Dave Attell turned out to be a thrilling and absorbing tale on moral and ethical decay. Robin plays the role of the killer with chilling logic and reason, which makes his performance all the more disturbing. A very powerful, thought-provoking film with lot of psychological depth. A worthy, if not particularly distinguished piece of entertainment. I was ready to check out about halfway through. It's the fact that Nolan never forgets that he's directing a thriller that truly makes Insomnia soar, since he invariably keeps the action moving in an entertaining and exciting manner. Even with all those rough edges safely sanded down, the American Insomnia is still pretty darned good. This movie may not keep you up at night, but it will keep you guessing until the very end. Director Nolan shows here he can handle clever material with a flair. Anyone who caught the original \"Insomnia\" will tell you Skjoldbjaerg did a solid job with this material. Nolan and his team, however, have taken the story to new heights. Summer Movie Season? Oscar Season! Its near brilliance comes in the way it makes use of its material, creating a picture that's anything but run-of-the-mill. Seitz ... manages to preserve what gave the original film its power -- gravity, interiority and a sense of moral unease -- yet still endow the action with an enjoyable Hollywood sheen. Remarkable for its intelligence and intensity. If Insomnia proves anything, it's that Christopher Nolan is just as good at telling stories moving forward as he is at telling them in reverse. Insomnia is not my kind of arsenic, but it's so well-made and enigmatic I liked it anyway. Not only is Insomnia one of the most intense police procedurals ever filmed, it's also one of the most riveting moral dramas I've ever seen. The Hollywood version (which is half an hour longer) transports the action to Alaska, and works up a respectable level of bleary-eyed paranoia.  If you saw the Norwegian version there's no compelling reason to see this weaker one. Nolan has not made a poor movie... but he has made a poor remake. A psychologically rich and suspenseful moral thriller with a stellar performance by Al Pacino. The best thing about Insomnia is that despite director Christopher Nolan's soft spot for moody-blues obfuscation, he has the good sense to keep his star in practically every shot. Nolan proves that he can cross swords with the best of them and helm a more traditionally plotted popcorn thriller while surrendering little of his intellectual rigor or creative composure. A skillfully complex and engrossing character study...A challenging piece of work that does not just thrill, but provokes thought out of its attentive evocations. The tense interplay between Pacino and Williams alone makes the film worth watching. A film that manages to be intimate and heart-rending as often as it is cold-blooded.  Insomnia loses points when it surrenders to a formulaic bang-bang, shoot-em-up scene at the conclusion. But the performances of Pacino, Williams, and Swank keep the viewer wide-awake all the way through. Insomnia certainly won't put you to sleep. With his tight pacing and sure handling of the psychological drama, director Nolan proves that, unlike his Memento hero, he's here for the long term. Robin Williams is cooler than a frozen cod in his most menacing part since Mrs. Doubtfire. The Hollywood remake feels oddly castrated when compared to the original. Registers as a superb, intricate, emotional thriller, complete with an ending that complements the film's intelligence. A thriller whose style, structure and rhythms are so integrated with the story, you cannot separate them. You see Robin Williams and psycho killer, and you think, hmmmmm. You see the movie and you think, zzzzzzzzz. This remake gets all there is to get out of a peculiar premise with promise: Al Pacino loathing Robin Williams. Continually challenges perceptions of guilt and innocence, of good guys and bad, and asks us whether a noble end can justify evil means. It proves quite compelling as an intense, brooding character study. Pacino, his creased face looking like it's been aged in a smokehouse, is wonderfully bleary as the increasingly confused Dormer. The film is a solid, character-driven piece, with a terrific visual look and a good score, but it's not quite the brilliant, edge of your seat thriller that it seems it also wants to be. A haunting psychological drama. A fairly classy thriller. Here's proof that it's still possible to make pop-oriented yet personal movies with an A-list cast and a zillion bucks. It'll keep you wide awake and ... very tense. An impressive follow-up to Memento and confirms the director's considerable promise. Nolan delivers a psychological thriller that is taut with suspense and visually stunning, even if it doesn't exactly break new ground. A pretty good thriller, with three Oscar winners doing good work, especially Pacino. With Insomnia, his third feature, Nolan, 32, has proven himself a precocious master of the thriller. A taut, fully realized thriller that's destined for canonization by suspense buffs and Art-heads alike. The film contains what might be Pacino's best work ever. That rare instance where Hollywood improves upon a movie from foreign soil. A four-course gourmet alternative to summer popcorn flicks, serving up the meatiest performances Al Pacino and Robin Williams have given in many years. Given all the resources in the world, Nolan, a director-for-hire here, responds by stretching his legs rather than his imagination. Proves the 32-year-old Nolan is the real deal, a gifted storyteller who knows how to use style, mood and composition to illustrate his characters' inner lives along with their actions. Seitz's script sticks closely to the original, but Nolan has had no trouble using a variety of skills to make the material his own. Insomnia does not become one of those rare remakes to eclipse the original, but it doesn't disgrace it, either. A psychological thriller with a smart script and an obsessive-compulsive's attention to detail. A nightmarish thriller that continues to haunt the viewer long after the film's shocking and disturbing climax unfolds. It's gripping entertainment in a popular vein -- the police procedural -- that nevertheless follows no preconceived formulas. We've got three Oscar-winning actors here and everybody does amazing work. When all else is said and done, Insomnia runs on the pure adrenalin of Pacino's performance. [Nolan] is a filmmaker in full control of mood, tone, and pacing, to whom actors as wildly different as Pacino and Williams can entrust their best instincts, rather than their showiest. A very deliberate, stylish and precise game of psychological thrills that'll keep your head spinning and your eyes squinting until the end. Atmospheric and deeply attuned to nuance, Insomnia is a thinking ticket buyer's murder mystery. This English-language redo actually manages to better flesh out the characters and explain some fuzzy motivations, which makes it a definite improvement on the original. Nolan and cinematographer Wally Pfister know how to mix riveting action with psychological drama. Williams' devious, subtly psychotic turn here is some of the finest work of his career, and beautifully matches, in their scenes together, Pacino's uncharacteristically whispery portrayal of a man losing every one of his bearings. Nolan is a craftsman who joins the ranks of Steven Soderbergh, David O. Russell, Curtis Hanson, and M. Night Shyamalan as an individual voice working within the Hollywood system. Pacino hasn't been this good in ages, dropping his usual mannerisms to dig deep into his multi-layered character, and Williams makes a chillingly serene psycho. Unlike most remakes, the Nolan Insomnia is not a pale retread, but a re-examination of the material, like a new production of a good play. A superior version of an already very good film. It's a psychological thriller with actual thrills and actual psychology. In a movie brimming with visual flair, Nolan also leaves room for his actors. Pacino and Williams seem to keep upping the ante on each other, just as their characters do in the film. What results is the best performance from either in years. Bristles with menace and a bleak, ambiguous morality that sets it far above the usual summer crop of murder-by-number thrillers. An excellent film. Insomnia is one of the year's best films and Pacino gives one of his most daring, and complicated, performances.  Gripping and forceful. There's nothing extremely wrong with this piece, but there's nothing terribly right about it, either. Sans hoo-ha!, [Pacino] gives a perversely compelling performance, part devious, part fearful, and part ravaged. Without the benefit of a clever narrative device, Christopher Nolan's left with his merely adequate skill as a filmmaker to breathe life into a generic police procedural. A complex, thoughtful thriller. At least you can care about the characters and the events &#151; something I couldn&#8217;t say after watching Memento, for all its brilliant storytelling. There's nothing provocative about this film save for the ways in which it studiously avoids provoking thought. Pacino's Will Dormer, taciturn and tormented Los Angeles cop, is his best performance in years. One of the most satisfying crime thrillers in years. See it. And then give the original a rent. It's only fair. Pacino slips in and out of a Southern accent so badly it seems like a joke he's pulling on us... Robin Williams plays Mork on heroin. meanders between its powerful moments. Intensely sharp-witted remake of the noir thriller Insomnia. Nolan bravely treads where few American films dare to delve -- into the world of ambivalence and ambiguity... It proves that both Al Pacino and Robin Williams really can act without overacting. It also shows that director Christopher Nolan has a life after Memento. It's a cat-and-mouse game, but Insomnia feels original because Pacino is both cat and mouse. A really good movie. An intelligent cat and mouse thriller with Pacino and Williams taking turns at being the cat. Nolan has proved that he's as adept with a straightforward and well-plotted thriller as he is with a idiosyncratic, ingenious one. How often can you say a remake is better than the original, especially a Hollywood remodeling of a quirky foreign film? The acting alone is worth the price of admission. Nolan has crafted a first-rate, but far more conventional, thriller. Proves the best (read: most unsettling) of its type since The Pledge. Pacino fans ought to go nuts for this performance, since it's one of his best in years. A deftly entertaining film, smartly played and smartly directed.\n"
     ]
    }
   ],
   "source": [
    "class Inference():\n",
    "    def get_example(index = int):\n",
    "        full_text = df['ctext'].values[index]\n",
    "        summary = df['text'].values[index]\n",
    "        return full_text, summary\n",
    "\n",
    "    def summarize(trained_model, tokenizer, text): \n",
    "        text_encoding = tokenizer(\n",
    "            text,\n",
    "            max_length = 512, \n",
    "            padding = 'max_length', \n",
    "            truncation = True, \n",
    "            return_attention_mask = True, \n",
    "            return_tensors = 'pt'\n",
    "        )\n",
    "    #     generated_ids = trained_model.model.generate(\n",
    "        generated_ids = trained_model.model.generate(\n",
    "            input_ids=text_encoding['input_ids'], \n",
    "            attention_mask = text_encoding['attention_mask'], \n",
    "            max_length = 50,\n",
    "            num_beams = 2,\n",
    "            repetition_penalty = 2.5,\n",
    "            length_penalty = 1.0,\n",
    "    #         early_stopping = True\n",
    "        )\n",
    "        preds = [\n",
    "            tokenizer.decode(gen_id, \n",
    "                skip_special_tokens = True, \n",
    "                clean_up_tokenization_spaces = True)\n",
    "            for gen_id in generated_ids\n",
    "        ]\n",
    "        return \"\".join(preds)\n",
    "        \n",
    "example_index = 234\n",
    "\n",
    "example_text, example_summary = Inference.get_example(example_index)\n",
    "print('~~~ Original text: \\n\\n', example_text, '\\n\\n\\n ~~~ Summary: \\n\\n', example_summary)"
   ]
  },
  {
   "cell_type": "code",
   "execution_count": 21,
   "metadata": {},
   "outputs": [
    {
     "data": {
      "text/plain": [
       "\"Insomnia is a film that's not only entertaining, but also deeply moving. It's a movie about the power of love and loss in our lives. A powerful psychological thriller with a lot of heart.\""
      ]
     },
     "execution_count": 21,
     "metadata": {},
     "output_type": "execute_result"
    }
   ],
   "source": [
    "# generating prediction from T5Finetuner method summarize \n",
    "prediction = Inference.summarize(trained_model, tokenizer, example_text)\n",
    "prediction"
   ]
  },
  {
   "cell_type": "code",
   "execution_count": 22,
   "metadata": {},
   "outputs": [
    {
     "data": {
      "text/plain": [
       "{'rouge1': Score(precision=0.9722222222222222, recall=0.010051694428489374, fmeasure=0.019897669130187607),\n",
       " 'rouge2': Score(precision=0.42857142857142855, recall=0.0043091065785693765, fmeasure=0.008532423208191127),\n",
       " 'rougeL': Score(precision=0.7222222222222222, recall=0.007466973004020678, fmeasure=0.014781125639567938)}"
      ]
     },
     "execution_count": 22,
     "metadata": {},
     "output_type": "execute_result"
    }
   ],
   "source": [
    "#using RougeScorer to assess example \n",
    "scorer = rouge_scorer.RougeScorer(['rouge1', 'rouge2', 'rougeL'], use_stemmer=True)\n",
    "scorer.score(example_summary, prediction)"
   ]
  },
  {
   "cell_type": "code",
   "execution_count": null,
   "metadata": {},
   "outputs": [],
   "source": []
  }
 ],
 "metadata": {
  "accelerator": "GPU",
  "colab": {
   "collapsed_sections": [],
   "name": "Functional Fine Tuning T5 for Summary Generation with PyTorch Lightning.ipynb",
   "provenance": []
  },
  "kernelspec": {
   "display_name": "Python 3 (ipykernel)",
   "language": "python",
   "name": "python3"
  },
  "language_info": {
   "codemirror_mode": {
    "name": "ipython",
    "version": 3
   },
   "file_extension": ".py",
   "mimetype": "text/x-python",
   "name": "python",
   "nbconvert_exporter": "python",
   "pygments_lexer": "ipython3",
   "version": "3.9.7"
  },
  "varInspector": {
   "cols": {
    "lenName": 16,
    "lenType": 16,
    "lenVar": 40
   },
   "kernels_config": {
    "python": {
     "delete_cmd_postfix": "",
     "delete_cmd_prefix": "del ",
     "library": "var_list.py",
     "varRefreshCmd": "print(var_dic_list())"
    },
    "r": {
     "delete_cmd_postfix": ") ",
     "delete_cmd_prefix": "rm(",
     "library": "var_list.r",
     "varRefreshCmd": "cat(var_dic_list()) "
    }
   },
   "types_to_exclude": [
    "module",
    "function",
    "builtin_function_or_method",
    "instance",
    "_Feature"
   ],
   "window_display": false
  },
  "widgets": {
   "application/vnd.jupyter.widget-state+json": {
    "0746fa011f484ad58113bc793fe3d5f8": {
     "model_module": "@jupyter-widgets/base",
     "model_module_version": "1.2.0",
     "model_name": "LayoutModel",
     "state": {
      "_model_module": "@jupyter-widgets/base",
      "_model_module_version": "1.2.0",
      "_model_name": "LayoutModel",
      "_view_count": null,
      "_view_module": "@jupyter-widgets/base",
      "_view_module_version": "1.2.0",
      "_view_name": "LayoutView",
      "align_content": null,
      "align_items": null,
      "align_self": null,
      "border": null,
      "bottom": null,
      "display": null,
      "flex": null,
      "flex_flow": null,
      "grid_area": null,
      "grid_auto_columns": null,
      "grid_auto_flow": null,
      "grid_auto_rows": null,
      "grid_column": null,
      "grid_gap": null,
      "grid_row": null,
      "grid_template_areas": null,
      "grid_template_columns": null,
      "grid_template_rows": null,
      "height": null,
      "justify_content": null,
      "justify_items": null,
      "left": null,
      "margin": null,
      "max_height": null,
      "max_width": null,
      "min_height": null,
      "min_width": null,
      "object_fit": null,
      "object_position": null,
      "order": null,
      "overflow": null,
      "overflow_x": null,
      "overflow_y": null,
      "padding": null,
      "right": null,
      "top": null,
      "visibility": null,
      "width": null
     }
    },
    "0ae3b91592f14849b5d8793fb50a1523": {
     "model_module": "@jupyter-widgets/base",
     "model_module_version": "1.2.0",
     "model_name": "LayoutModel",
     "state": {
      "_model_module": "@jupyter-widgets/base",
      "_model_module_version": "1.2.0",
      "_model_name": "LayoutModel",
      "_view_count": null,
      "_view_module": "@jupyter-widgets/base",
      "_view_module_version": "1.2.0",
      "_view_name": "LayoutView",
      "align_content": null,
      "align_items": null,
      "align_self": null,
      "border": null,
      "bottom": null,
      "display": null,
      "flex": null,
      "flex_flow": null,
      "grid_area": null,
      "grid_auto_columns": null,
      "grid_auto_flow": null,
      "grid_auto_rows": null,
      "grid_column": null,
      "grid_gap": null,
      "grid_row": null,
      "grid_template_areas": null,
      "grid_template_columns": null,
      "grid_template_rows": null,
      "height": null,
      "justify_content": null,
      "justify_items": null,
      "left": null,
      "margin": null,
      "max_height": null,
      "max_width": null,
      "min_height": null,
      "min_width": null,
      "object_fit": null,
      "object_position": null,
      "order": null,
      "overflow": null,
      "overflow_x": null,
      "overflow_y": null,
      "padding": null,
      "right": null,
      "top": null,
      "visibility": null,
      "width": null
     }
    },
    "0cd2ed793e0d4d0e80cef01e4904a82d": {
     "model_module": "@jupyter-widgets/controls",
     "model_module_version": "1.5.0",
     "model_name": "FloatProgressModel",
     "state": {
      "_dom_classes": [],
      "_model_module": "@jupyter-widgets/controls",
      "_model_module_version": "1.5.0",
      "_model_name": "FloatProgressModel",
      "_view_count": null,
      "_view_module": "@jupyter-widgets/controls",
      "_view_module_version": "1.5.0",
      "_view_name": "ProgressView",
      "bar_style": "success",
      "description": "",
      "description_tooltip": null,
      "layout": "IPY_MODEL_6e1c940630b54e6e815127e2deb534c3",
      "max": 1199,
      "min": 0,
      "orientation": "horizontal",
      "style": "IPY_MODEL_5e1035c6439b4388a4aec2b5b5f75361",
      "value": 1199
     }
    },
    "0ec9cee8a33a4edf8c0c10ad9e8eac46": {
     "model_module": "@jupyter-widgets/base",
     "model_module_version": "1.2.0",
     "model_name": "LayoutModel",
     "state": {
      "_model_module": "@jupyter-widgets/base",
      "_model_module_version": "1.2.0",
      "_model_name": "LayoutModel",
      "_view_count": null,
      "_view_module": "@jupyter-widgets/base",
      "_view_module_version": "1.2.0",
      "_view_name": "LayoutView",
      "align_content": null,
      "align_items": null,
      "align_self": null,
      "border": null,
      "bottom": null,
      "display": null,
      "flex": null,
      "flex_flow": null,
      "grid_area": null,
      "grid_auto_columns": null,
      "grid_auto_flow": null,
      "grid_auto_rows": null,
      "grid_column": null,
      "grid_gap": null,
      "grid_row": null,
      "grid_template_areas": null,
      "grid_template_columns": null,
      "grid_template_rows": null,
      "height": null,
      "justify_content": null,
      "justify_items": null,
      "left": null,
      "margin": null,
      "max_height": null,
      "max_width": null,
      "min_height": null,
      "min_width": null,
      "object_fit": null,
      "object_position": null,
      "order": null,
      "overflow": null,
      "overflow_x": null,
      "overflow_y": null,
      "padding": null,
      "right": null,
      "top": null,
      "visibility": null,
      "width": null
     }
    },
    "16f4dde0b6b44e348ca74641ab268682": {
     "model_module": "@jupyter-widgets/base",
     "model_module_version": "1.2.0",
     "model_name": "LayoutModel",
     "state": {
      "_model_module": "@jupyter-widgets/base",
      "_model_module_version": "1.2.0",
      "_model_name": "LayoutModel",
      "_view_count": null,
      "_view_module": "@jupyter-widgets/base",
      "_view_module_version": "1.2.0",
      "_view_name": "LayoutView",
      "align_content": null,
      "align_items": null,
      "align_self": null,
      "border": null,
      "bottom": null,
      "display": null,
      "flex": null,
      "flex_flow": null,
      "grid_area": null,
      "grid_auto_columns": null,
      "grid_auto_flow": null,
      "grid_auto_rows": null,
      "grid_column": null,
      "grid_gap": null,
      "grid_row": null,
      "grid_template_areas": null,
      "grid_template_columns": null,
      "grid_template_rows": null,
      "height": null,
      "justify_content": null,
      "justify_items": null,
      "left": null,
      "margin": null,
      "max_height": null,
      "max_width": null,
      "min_height": null,
      "min_width": null,
      "object_fit": null,
      "object_position": null,
      "order": null,
      "overflow": null,
      "overflow_x": null,
      "overflow_y": null,
      "padding": null,
      "right": null,
      "top": null,
      "visibility": null,
      "width": null
     }
    },
    "1bfa3a6a22074e71b19eea8ade066e59": {
     "model_module": "@jupyter-widgets/controls",
     "model_module_version": "1.5.0",
     "model_name": "HBoxModel",
     "state": {
      "_dom_classes": [],
      "_model_module": "@jupyter-widgets/controls",
      "_model_module_version": "1.5.0",
      "_model_name": "HBoxModel",
      "_view_count": null,
      "_view_module": "@jupyter-widgets/controls",
      "_view_module_version": "1.5.0",
      "_view_name": "HBoxView",
      "box_style": "",
      "children": [
       "IPY_MODEL_d8d3f79d482246c0bbb0d879bebf0898",
       "IPY_MODEL_0cd2ed793e0d4d0e80cef01e4904a82d",
       "IPY_MODEL_5c9f278cd5934eacb478aa0c231901ac"
      ],
      "layout": "IPY_MODEL_0ec9cee8a33a4edf8c0c10ad9e8eac46"
     }
    },
    "275938732e6247e890300db8e0b554f3": {
     "model_module": "@jupyter-widgets/controls",
     "model_module_version": "1.5.0",
     "model_name": "FloatProgressModel",
     "state": {
      "_dom_classes": [],
      "_model_module": "@jupyter-widgets/controls",
      "_model_module_version": "1.5.0",
      "_model_name": "FloatProgressModel",
      "_view_count": null,
      "_view_module": "@jupyter-widgets/controls",
      "_view_module_version": "1.5.0",
      "_view_name": "ProgressView",
      "bar_style": "success",
      "description": "",
      "description_tooltip": null,
      "layout": "IPY_MODEL_0746fa011f484ad58113bc793fe3d5f8",
      "max": 891691430,
      "min": 0,
      "orientation": "horizontal",
      "style": "IPY_MODEL_ee625d5735834de8b9fdbf05afd1a054",
      "value": 891691430
     }
    },
    "282c96cfa2554c41a29babe9483be05a": {
     "model_module": "@jupyter-widgets/controls",
     "model_module_version": "1.5.0",
     "model_name": "HTMLModel",
     "state": {
      "_dom_classes": [],
      "_model_module": "@jupyter-widgets/controls",
      "_model_module_version": "1.5.0",
      "_model_name": "HTMLModel",
      "_view_count": null,
      "_view_module": "@jupyter-widgets/controls",
      "_view_module_version": "1.5.0",
      "_view_name": "HTMLView",
      "description": "",
      "description_tooltip": null,
      "layout": "IPY_MODEL_16f4dde0b6b44e348ca74641ab268682",
      "placeholder": "​",
      "style": "IPY_MODEL_9e8f9f0276a44aa880876c2a8e1130c3",
      "value": "Downloading: 100%"
     }
    },
    "3cc44dc6fb604912918d18d9320bdb15": {
     "model_module": "@jupyter-widgets/controls",
     "model_module_version": "1.5.0",
     "model_name": "DescriptionStyleModel",
     "state": {
      "_model_module": "@jupyter-widgets/controls",
      "_model_module_version": "1.5.0",
      "_model_name": "DescriptionStyleModel",
      "_view_count": null,
      "_view_module": "@jupyter-widgets/base",
      "_view_module_version": "1.2.0",
      "_view_name": "StyleView",
      "description_width": ""
     }
    },
    "5553b23a58bf4e56811e7d9368dcad82": {
     "model_module": "@jupyter-widgets/controls",
     "model_module_version": "1.5.0",
     "model_name": "DescriptionStyleModel",
     "state": {
      "_model_module": "@jupyter-widgets/controls",
      "_model_module_version": "1.5.0",
      "_model_name": "DescriptionStyleModel",
      "_view_count": null,
      "_view_module": "@jupyter-widgets/base",
      "_view_module_version": "1.2.0",
      "_view_name": "StyleView",
      "description_width": ""
     }
    },
    "5c9f278cd5934eacb478aa0c231901ac": {
     "model_module": "@jupyter-widgets/controls",
     "model_module_version": "1.5.0",
     "model_name": "HTMLModel",
     "state": {
      "_dom_classes": [],
      "_model_module": "@jupyter-widgets/controls",
      "_model_module_version": "1.5.0",
      "_model_name": "HTMLModel",
      "_view_count": null,
      "_view_module": "@jupyter-widgets/controls",
      "_view_module_version": "1.5.0",
      "_view_name": "HTMLView",
      "description": "",
      "description_tooltip": null,
      "layout": "IPY_MODEL_b57f1d7d94f840e5bee110b1ad931ef7",
      "placeholder": "​",
      "style": "IPY_MODEL_3cc44dc6fb604912918d18d9320bdb15",
      "value": " 1.17k/1.17k [00:00&lt;00:00, 26.2kB/s]"
     }
    },
    "5e1035c6439b4388a4aec2b5b5f75361": {
     "model_module": "@jupyter-widgets/controls",
     "model_module_version": "1.5.0",
     "model_name": "ProgressStyleModel",
     "state": {
      "_model_module": "@jupyter-widgets/controls",
      "_model_module_version": "1.5.0",
      "_model_name": "ProgressStyleModel",
      "_view_count": null,
      "_view_module": "@jupyter-widgets/base",
      "_view_module_version": "1.2.0",
      "_view_name": "StyleView",
      "bar_color": null,
      "description_width": ""
     }
    },
    "5f914f88aa1b4a17afb3d747a46f2c68": {
     "model_module": "@jupyter-widgets/controls",
     "model_module_version": "1.5.0",
     "model_name": "DescriptionStyleModel",
     "state": {
      "_model_module": "@jupyter-widgets/controls",
      "_model_module_version": "1.5.0",
      "_model_name": "DescriptionStyleModel",
      "_view_count": null,
      "_view_module": "@jupyter-widgets/base",
      "_view_module_version": "1.2.0",
      "_view_name": "StyleView",
      "description_width": ""
     }
    },
    "6e1c940630b54e6e815127e2deb534c3": {
     "model_module": "@jupyter-widgets/base",
     "model_module_version": "1.2.0",
     "model_name": "LayoutModel",
     "state": {
      "_model_module": "@jupyter-widgets/base",
      "_model_module_version": "1.2.0",
      "_model_name": "LayoutModel",
      "_view_count": null,
      "_view_module": "@jupyter-widgets/base",
      "_view_module_version": "1.2.0",
      "_view_name": "LayoutView",
      "align_content": null,
      "align_items": null,
      "align_self": null,
      "border": null,
      "bottom": null,
      "display": null,
      "flex": null,
      "flex_flow": null,
      "grid_area": null,
      "grid_auto_columns": null,
      "grid_auto_flow": null,
      "grid_auto_rows": null,
      "grid_column": null,
      "grid_gap": null,
      "grid_row": null,
      "grid_template_areas": null,
      "grid_template_columns": null,
      "grid_template_rows": null,
      "height": null,
      "justify_content": null,
      "justify_items": null,
      "left": null,
      "margin": null,
      "max_height": null,
      "max_width": null,
      "min_height": null,
      "min_width": null,
      "object_fit": null,
      "object_position": null,
      "order": null,
      "overflow": null,
      "overflow_x": null,
      "overflow_y": null,
      "padding": null,
      "right": null,
      "top": null,
      "visibility": null,
      "width": null
     }
    },
    "7af4c06c265646459394e72e966d663b": {
     "model_module": "@jupyter-widgets/controls",
     "model_module_version": "1.5.0",
     "model_name": "HTMLModel",
     "state": {
      "_dom_classes": [],
      "_model_module": "@jupyter-widgets/controls",
      "_model_module_version": "1.5.0",
      "_model_name": "HTMLModel",
      "_view_count": null,
      "_view_module": "@jupyter-widgets/controls",
      "_view_module_version": "1.5.0",
      "_view_name": "HTMLView",
      "description": "",
      "description_tooltip": null,
      "layout": "IPY_MODEL_0ae3b91592f14849b5d8793fb50a1523",
      "placeholder": "​",
      "style": "IPY_MODEL_5f914f88aa1b4a17afb3d747a46f2c68",
      "value": " 850M/850M [00:24&lt;00:00, 36.5MB/s]"
     }
    },
    "9e8f9f0276a44aa880876c2a8e1130c3": {
     "model_module": "@jupyter-widgets/controls",
     "model_module_version": "1.5.0",
     "model_name": "DescriptionStyleModel",
     "state": {
      "_model_module": "@jupyter-widgets/controls",
      "_model_module_version": "1.5.0",
      "_model_name": "DescriptionStyleModel",
      "_view_count": null,
      "_view_module": "@jupyter-widgets/base",
      "_view_module_version": "1.2.0",
      "_view_name": "StyleView",
      "description_width": ""
     }
    },
    "ac04c801c5b4444da3f8c62d8444f784": {
     "model_module": "@jupyter-widgets/base",
     "model_module_version": "1.2.0",
     "model_name": "LayoutModel",
     "state": {
      "_model_module": "@jupyter-widgets/base",
      "_model_module_version": "1.2.0",
      "_model_name": "LayoutModel",
      "_view_count": null,
      "_view_module": "@jupyter-widgets/base",
      "_view_module_version": "1.2.0",
      "_view_name": "LayoutView",
      "align_content": null,
      "align_items": null,
      "align_self": null,
      "border": null,
      "bottom": null,
      "display": null,
      "flex": null,
      "flex_flow": null,
      "grid_area": null,
      "grid_auto_columns": null,
      "grid_auto_flow": null,
      "grid_auto_rows": null,
      "grid_column": null,
      "grid_gap": null,
      "grid_row": null,
      "grid_template_areas": null,
      "grid_template_columns": null,
      "grid_template_rows": null,
      "height": null,
      "justify_content": null,
      "justify_items": null,
      "left": null,
      "margin": null,
      "max_height": null,
      "max_width": null,
      "min_height": null,
      "min_width": null,
      "object_fit": null,
      "object_position": null,
      "order": null,
      "overflow": null,
      "overflow_x": null,
      "overflow_y": null,
      "padding": null,
      "right": null,
      "top": null,
      "visibility": null,
      "width": null
     }
    },
    "b57f1d7d94f840e5bee110b1ad931ef7": {
     "model_module": "@jupyter-widgets/base",
     "model_module_version": "1.2.0",
     "model_name": "LayoutModel",
     "state": {
      "_model_module": "@jupyter-widgets/base",
      "_model_module_version": "1.2.0",
      "_model_name": "LayoutModel",
      "_view_count": null,
      "_view_module": "@jupyter-widgets/base",
      "_view_module_version": "1.2.0",
      "_view_name": "LayoutView",
      "align_content": null,
      "align_items": null,
      "align_self": null,
      "border": null,
      "bottom": null,
      "display": null,
      "flex": null,
      "flex_flow": null,
      "grid_area": null,
      "grid_auto_columns": null,
      "grid_auto_flow": null,
      "grid_auto_rows": null,
      "grid_column": null,
      "grid_gap": null,
      "grid_row": null,
      "grid_template_areas": null,
      "grid_template_columns": null,
      "grid_template_rows": null,
      "height": null,
      "justify_content": null,
      "justify_items": null,
      "left": null,
      "margin": null,
      "max_height": null,
      "max_width": null,
      "min_height": null,
      "min_width": null,
      "object_fit": null,
      "object_position": null,
      "order": null,
      "overflow": null,
      "overflow_x": null,
      "overflow_y": null,
      "padding": null,
      "right": null,
      "top": null,
      "visibility": null,
      "width": null
     }
    },
    "b6a1f41b5b984124ab5a272e26cd68c8": {
     "model_module": "@jupyter-widgets/controls",
     "model_module_version": "1.5.0",
     "model_name": "HBoxModel",
     "state": {
      "_dom_classes": [],
      "_model_module": "@jupyter-widgets/controls",
      "_model_module_version": "1.5.0",
      "_model_name": "HBoxModel",
      "_view_count": null,
      "_view_module": "@jupyter-widgets/controls",
      "_view_module_version": "1.5.0",
      "_view_name": "HBoxView",
      "box_style": "",
      "children": [
       "IPY_MODEL_282c96cfa2554c41a29babe9483be05a",
       "IPY_MODEL_275938732e6247e890300db8e0b554f3",
       "IPY_MODEL_7af4c06c265646459394e72e966d663b"
      ],
      "layout": "IPY_MODEL_c2c5979963084197939ce83ca1df8213"
     }
    },
    "c2c5979963084197939ce83ca1df8213": {
     "model_module": "@jupyter-widgets/base",
     "model_module_version": "1.2.0",
     "model_name": "LayoutModel",
     "state": {
      "_model_module": "@jupyter-widgets/base",
      "_model_module_version": "1.2.0",
      "_model_name": "LayoutModel",
      "_view_count": null,
      "_view_module": "@jupyter-widgets/base",
      "_view_module_version": "1.2.0",
      "_view_name": "LayoutView",
      "align_content": null,
      "align_items": null,
      "align_self": null,
      "border": null,
      "bottom": null,
      "display": null,
      "flex": null,
      "flex_flow": null,
      "grid_area": null,
      "grid_auto_columns": null,
      "grid_auto_flow": null,
      "grid_auto_rows": null,
      "grid_column": null,
      "grid_gap": null,
      "grid_row": null,
      "grid_template_areas": null,
      "grid_template_columns": null,
      "grid_template_rows": null,
      "height": null,
      "justify_content": null,
      "justify_items": null,
      "left": null,
      "margin": null,
      "max_height": null,
      "max_width": null,
      "min_height": null,
      "min_width": null,
      "object_fit": null,
      "object_position": null,
      "order": null,
      "overflow": null,
      "overflow_x": null,
      "overflow_y": null,
      "padding": null,
      "right": null,
      "top": null,
      "visibility": null,
      "width": null
     }
    },
    "d8d3f79d482246c0bbb0d879bebf0898": {
     "model_module": "@jupyter-widgets/controls",
     "model_module_version": "1.5.0",
     "model_name": "HTMLModel",
     "state": {
      "_dom_classes": [],
      "_model_module": "@jupyter-widgets/controls",
      "_model_module_version": "1.5.0",
      "_model_name": "HTMLModel",
      "_view_count": null,
      "_view_module": "@jupyter-widgets/controls",
      "_view_module_version": "1.5.0",
      "_view_name": "HTMLView",
      "description": "",
      "description_tooltip": null,
      "layout": "IPY_MODEL_ac04c801c5b4444da3f8c62d8444f784",
      "placeholder": "​",
      "style": "IPY_MODEL_5553b23a58bf4e56811e7d9368dcad82",
      "value": "Downloading: 100%"
     }
    },
    "ee625d5735834de8b9fdbf05afd1a054": {
     "model_module": "@jupyter-widgets/controls",
     "model_module_version": "1.5.0",
     "model_name": "ProgressStyleModel",
     "state": {
      "_model_module": "@jupyter-widgets/controls",
      "_model_module_version": "1.5.0",
      "_model_name": "ProgressStyleModel",
      "_view_count": null,
      "_view_module": "@jupyter-widgets/base",
      "_view_module_version": "1.2.0",
      "_view_name": "StyleView",
      "bar_color": null,
      "description_width": ""
     }
    }
   }
  }
 },
 "nbformat": 4,
 "nbformat_minor": 1
}
