{
 "cells": [
  {
   "cell_type": "markdown",
   "metadata": {
    "id": "pzM1_ykHaFur"
   },
   "source": [
    "# Finetuning Text Summarization Notebook:\n",
    "\n",
    "# Hugging Face T5 transformer & XSum dataset"
   ]
  },
  {
   "cell_type": "code",
   "execution_count": 1,
   "metadata": {
    "id": "pzM1_ykHaFur"
   },
   "outputs": [],
   "source": [
    "from os.path import join, isfile\n",
    "from os import listdir\n",
    "import pandas as pd\n",
    "import pytorch_lightning as pl\n",
    "from pytorch_lightning.loggers import TensorBoardLogger\n",
    "from pytorch_lightning.callbacks import ModelCheckpoint\n",
    "from rouge_score import rouge_scorer\n",
    "import torch\n",
    "from torch.utils.data import TensorDataset, random_split\n",
    "from torch.utils.data import  DataLoader, RandomSampler, SequentialSampler #Dataset,\n",
    "from transformers import get_linear_schedule_with_warmup, AdamW\n",
    "from transformers import T5Tokenizer, T5ForConditionalGeneration"
   ]
  },
  {
   "cell_type": "markdown",
   "metadata": {},
   "source": [
    "**FYI:** pd.__version__ '1.3.4' gets this error AttributeError: 'functools.partial' object has no attribute '__name__'\n",
    "https://github.com/pandas-dev/pandas/issues/42748 . pip install pandas==1.2.5 removes error. "
   ]
  },
  {
   "cell_type": "markdown",
   "metadata": {},
   "source": [
    "## Loading data from Hugging Face "
   ]
  },
  {
   "cell_type": "code",
   "execution_count": 2,
   "metadata": {},
   "outputs": [
    {
     "name": "stderr",
     "output_type": "stream",
     "text": [
      "Using custom data configuration default\n",
      "Reusing dataset xsum (C:\\Users\\megra\\.cache\\huggingface\\datasets\\xsum\\default\\1.2.0\\32c23220eadddb1149b16ed2e9430a05293768cfffbdfd151058697d4c11f934)\n"
     ]
    },
    {
     "data": {
      "application/vnd.jupyter.widget-view+json": {
       "model_id": "8438847a0628409aa3e551550aa9f1cb",
       "version_major": 2,
       "version_minor": 0
      },
      "text/plain": [
       "  0%|          | 0/3 [00:00<?, ?it/s]"
      ]
     },
     "metadata": {},
     "output_type": "display_data"
    },
    {
     "data": {
      "text/html": [
       "<div>\n",
       "<style scoped>\n",
       "    .dataframe tbody tr th:only-of-type {\n",
       "        vertical-align: middle;\n",
       "    }\n",
       "\n",
       "    .dataframe tbody tr th {\n",
       "        vertical-align: top;\n",
       "    }\n",
       "\n",
       "    .dataframe thead th {\n",
       "        text-align: right;\n",
       "    }\n",
       "</style>\n",
       "<table border=\"1\" class=\"dataframe\">\n",
       "  <thead>\n",
       "    <tr style=\"text-align: right;\">\n",
       "      <th></th>\n",
       "      <th>ctext</th>\n",
       "      <th>text</th>\n",
       "    </tr>\n",
       "  </thead>\n",
       "  <tbody>\n",
       "    <tr>\n",
       "      <th>0</th>\n",
       "      <td>The full cost of damage in Newton Stewart, one...</td>\n",
       "      <td>Clean-up operations are continuing across the ...</td>\n",
       "    </tr>\n",
       "    <tr>\n",
       "      <th>1</th>\n",
       "      <td>A fire alarm went off at the Holiday Inn in Ho...</td>\n",
       "      <td>Two tourist buses have been destroyed by fire ...</td>\n",
       "    </tr>\n",
       "    <tr>\n",
       "      <th>2</th>\n",
       "      <td>Ferrari appeared in a position to challenge un...</td>\n",
       "      <td>Lewis Hamilton stormed to pole position at the...</td>\n",
       "    </tr>\n",
       "    <tr>\n",
       "      <th>3</th>\n",
       "      <td>John Edward Bates, formerly of Spalding, Linco...</td>\n",
       "      <td>A former Lincolnshire Police officer carried o...</td>\n",
       "    </tr>\n",
       "    <tr>\n",
       "      <th>4</th>\n",
       "      <td>Patients and staff were evacuated from Cerahpa...</td>\n",
       "      <td>An armed man who locked himself into a room at...</td>\n",
       "    </tr>\n",
       "  </tbody>\n",
       "</table>\n",
       "</div>"
      ],
      "text/plain": [
       "                                               ctext  \\\n",
       "0  The full cost of damage in Newton Stewart, one...   \n",
       "1  A fire alarm went off at the Holiday Inn in Ho...   \n",
       "2  Ferrari appeared in a position to challenge un...   \n",
       "3  John Edward Bates, formerly of Spalding, Linco...   \n",
       "4  Patients and staff were evacuated from Cerahpa...   \n",
       "\n",
       "                                                text  \n",
       "0  Clean-up operations are continuing across the ...  \n",
       "1  Two tourist buses have been destroyed by fire ...  \n",
       "2  Lewis Hamilton stormed to pole position at the...  \n",
       "3  A former Lincolnshire Police officer carried o...  \n",
       "4  An armed man who locked himself into a room at...  "
      ]
     },
     "execution_count": 2,
     "metadata": {},
     "output_type": "execute_result"
    }
   ],
   "source": [
    "from datasets import load_dataset\n",
    "datasets = load_dataset('xsum')\n",
    "# datasets = load_dataset('samsum')\n",
    "\n",
    "df = datasets['train'].to_pandas()\n",
    "# shortening data down for faster tutorial training \n",
    "df = df.iloc[:3000, :2].copy()\n",
    "df.columns = ['ctext', 'text']\n",
    "df.head()"
   ]
  },
  {
   "cell_type": "markdown",
   "metadata": {},
   "source": [
    "## Model building "
   ]
  },
  {
   "cell_type": "code",
   "execution_count": 3,
   "metadata": {
    "id": "WtI92WcVHrCb"
   },
   "outputs": [],
   "source": [
    "class T5Finetuner(pl.LightningModule):\n",
    "    '''\n",
    "    Documentation-In-Progress\n",
    "    '''\n",
    "\n",
    "    def __init__(self, df = pd.DataFrame):\n",
    "        super().__init__()\n",
    "        self.save_hyperparameters()\n",
    "        self.source_len = 512\n",
    "        self.summ_len = 200\n",
    "        self.lr = .0001\n",
    "        self.bs = 8\n",
    "        self.num_workers = 8\n",
    "        self.model = T5ForConditionalGeneration.from_pretrained(MODEL_NAME)\n",
    "        self.tokenizer = T5Tokenizer.from_pretrained(MODEL_NAME)\n",
    "        self.data = df\n",
    "        self.scorer = rouge_scorer.RougeScorer(['rouge1', 'rouge2', 'rougeL'], use_stemmer=True)\n",
    "        self.output = 'temp/'\n",
    "        self.name = 'test'\n",
    "\n",
    "    def encode_text(self, context, text):\n",
    "        ctext = str(context) # context text \n",
    "        ctext = ' '.join(ctext.split())\n",
    "        text = str(text) # summarized text\n",
    "        text = ' '.join(text.split())\n",
    "        source = self.tokenizer.batch_encode_plus([ctext], \n",
    "                                                max_length= self.source_len, \n",
    "                                                truncation=True,\n",
    "                                                padding='max_length',\n",
    "                                                return_tensors='pt')\n",
    "        target = self.tokenizer.batch_encode_plus([text], \n",
    "                                                max_length= self.summ_len,\n",
    "                                                truncation=True,\n",
    "                                                padding='max_length',\n",
    "                                                return_tensors='pt')\n",
    "        y = target['input_ids']\n",
    "        target_id = y[:, :-1].contiguous()\n",
    "        target_label = y[:, 1:].clone().detach()\n",
    "        target_label[y[:, 1:] == self.tokenizer.pad_token_id] = -100 #edge-case  handling when no labels are there\n",
    "        return source['input_ids'], source['attention_mask'], target_id, target_label\n",
    "    \n",
    "    def prepare_data(self):\n",
    "        source_ids, source_masks, target_ids, target_labels = [], [], [], [] \n",
    "        for _, row in self.data.iterrows():\n",
    "            source_id, source_mask, target_id, target_label = self.encode_text(row.ctext, row.text)\n",
    "            source_ids.append(source_id)\n",
    "            source_masks.append(source_mask)\n",
    "            target_ids.append(target_id)\n",
    "            target_labels.append(target_label)\n",
    "\n",
    "        # Transforming lists into tensors\n",
    "        source_ids = torch.cat(source_ids, dim=0)\n",
    "        source_masks = torch.cat(source_masks, dim=0)\n",
    "        target_ids = torch.cat(target_ids, dim=0)\n",
    "        target_labels = torch.cat(target_labels, dim=0)\n",
    "        # Splitting data into standard train, val, and test sets \n",
    "        data = TensorDataset(source_ids, source_masks, target_ids, target_labels)\n",
    "        train_size, val_size = int(0.8 * len(data)), int(0.1 * len(data))\n",
    "        test_size = len(data) - (train_size + val_size)\n",
    "        self.train_dat, self.val_dat, self.test_dat = \\\n",
    "            random_split(data, [train_size, val_size, test_size])\n",
    "    \n",
    "    def forward(self, batch, batch_idx):\n",
    "        source_ids, source_mask, target_ids, target_labels = batch[:4]\n",
    "        return self.model(\n",
    "            input_ids = source_ids, \n",
    "            attention_mask = source_mask, \n",
    "            decoder_input_ids=target_ids, \n",
    "            labels=target_labels\n",
    "        )\n",
    "        \n",
    "    def training_step(self, batch, batch_idx):\n",
    "        loss = self(batch, batch_idx)[0]\n",
    "        self.log('train loss', loss, prog_bar = True, logger = True)\n",
    "        return {'loss': loss, 'log': {'train_loss': loss}}\n",
    "\n",
    "    def validation_step(self, batch, batch_idx):\n",
    "        loss = self(batch, batch_idx)[0]\n",
    "        self.log('valid loss', loss, prog_bar = True, logger = True)\n",
    "        return {'loss': loss}\n",
    "\n",
    "    def validation_epoch_end(self, outputs): \n",
    "        loss = sum([o['loss'] for o in outputs]) / len(outputs)\n",
    "        out = {'val_loss': loss}\n",
    "        return {**out, 'log': out}\n",
    "\n",
    "    def test_step(self, batch, batch_idx):\n",
    "        loss = self(batch, batch_idx)[0]\n",
    "        self.log('test loss', loss, prog_bar = True, logger = True)\n",
    "        return {'loss': loss}\n",
    "\n",
    "    def test_epoch_end(self, outputs):\n",
    "        loss = sum([o['loss'] for o in outputs]) / len(outputs)\n",
    "        out = {'test_loss': loss}\n",
    "        return {**out, 'log': out}\n",
    "    \n",
    "    def train_dataloader(self):\n",
    "        return DataLoader(\n",
    "            self.train_dat,\n",
    "            batch_size=self.bs,\n",
    "            num_workers=self.num_workers, \n",
    "            sampler=RandomSampler(self.train_dat))\n",
    "\n",
    "    def val_dataloader(self):\n",
    "        return DataLoader(\n",
    "            self.val_dat, \n",
    "            batch_size=self.bs, \n",
    "            num_workers=self.num_workers,\n",
    "            sampler=SequentialSampler(self.val_dat)\n",
    "        )\n",
    "\n",
    "    def test_dataloader(self):\n",
    "        return DataLoader(\n",
    "            self.test_dat, \n",
    "            batch_size=self.bs, \n",
    "            num_workers=self.num_workers,\n",
    "            sampler=SequentialSampler(self.test_dat)\n",
    "        )    \n",
    "\n",
    "    def configure_optimizers(self):\n",
    "        optimizer = AdamW(self.model.parameters(), lr=self.lr, eps=1e-4)\n",
    "        return {'optimizer': optimizer}\n",
    "    \n",
    "    def summarize(text): \n",
    "        text_encoding = tokenizer(\n",
    "            text,\n",
    "            max_length = 512, \n",
    "            padding = 'max_length', \n",
    "            truncation = True, \n",
    "            return_attention_mask = True, \n",
    "            add_special_characters = True, \n",
    "            return_tensors = 'pt'\n",
    "        )\n",
    "        generated_ids = trained_model.model.generate(\n",
    "            input_ids=text_encoding['input_ids'], \n",
    "            attention_mask = text_encoding['attention_mask'], \n",
    "            max_length = 80,\n",
    "            num_beams = 2,\n",
    "            repetition_penalty = 2.5,\n",
    "            length_penalty = 1.0,\n",
    "            early_stopping = True\n",
    "        )\n",
    "        preds = [\n",
    "            tokenizer.decode(gen_id, \n",
    "                skip_special_tokens = True, \n",
    "                clean_up_tokenization_spaces = True)\n",
    "            for gen_id in generated_ids\n",
    "        ]\n",
    "        return \"\".join(preds)\n",
    "        \n",
    "    def save_core_model(self):\n",
    "        store_path = join(self.output, self.name, 'core')\n",
    "        self.model.save_pretrained(store_path)\n",
    "        self.tokenizer.save_pretrained(store_path)"
   ]
  },
  {
   "cell_type": "code",
   "execution_count": 4,
   "metadata": {},
   "outputs": [],
   "source": [
    "class MetricsCallback(pl.Callback):\n",
    "    def __init__(self):\n",
    "        super().__init__()\n",
    "        self.metrics = []\n",
    "\n",
    "    def on_validation_end(self, trainer, pl_module):\n",
    "        self.metrics.append(trainer.callback_metrics)"
   ]
  },
  {
   "cell_type": "markdown",
   "metadata": {},
   "source": [
    "## Selecting model name "
   ]
  },
  {
   "cell_type": "code",
   "execution_count": 5,
   "metadata": {},
   "outputs": [],
   "source": [
    "#######################\n",
    "MODEL_NAME = 't5-base'\n",
    "#######################\n",
    "tokenizer = T5Tokenizer.from_pretrained(MODEL_NAME)\n",
    "model = T5Finetuner(df = df)\n",
    "num_epochs = 5"
   ]
  },
  {
   "cell_type": "markdown",
   "metadata": {},
   "source": [
    "## Loading tensorboard for logging "
   ]
  },
  {
   "cell_type": "code",
   "execution_count": 6,
   "metadata": {},
   "outputs": [
    {
     "data": {
      "text/html": [
       "\n",
       "      <iframe id=\"tensorboard-frame-e27e74c1686b2d91\" width=\"100%\" height=\"800\" frameborder=\"0\">\n",
       "      </iframe>\n",
       "      <script>\n",
       "        (function() {\n",
       "          const frame = document.getElementById(\"tensorboard-frame-e27e74c1686b2d91\");\n",
       "          const url = new URL(\"/\", window.location);\n",
       "          const port = 4000;\n",
       "          if (port) {\n",
       "            url.port = port;\n",
       "          }\n",
       "          frame.src = url;\n",
       "        })();\n",
       "      </script>\n",
       "    "
      ],
      "text/plain": [
       "<IPython.core.display.HTML object>"
      ]
     },
     "metadata": {},
     "output_type": "display_data"
    }
   ],
   "source": [
    "%load_ext tensorboard\n",
    "%tensorboard --logdir ./lightning_logs --host localhost --port 4000"
   ]
  },
  {
   "cell_type": "code",
   "execution_count": 7,
   "metadata": {},
   "outputs": [
    {
     "name": "stderr",
     "output_type": "stream",
     "text": [
      "C:\\Users\\megra\\anaconda3\\envs\\textsum_env\\lib\\site-packages\\pytorch_lightning\\trainer\\connectors\\callback_connector.py:147: LightningDeprecationWarning: Setting `Trainer(checkpoint_callback=<pytorch_lightning.callbacks.model_checkpoint.ModelCheckpoint object at 0x00000277A3E593A0>)` is deprecated in v1.5 and will be removed in v1.7. Please consider using `Trainer(enable_checkpointing=<pytorch_lightning.callbacks.model_checkpoint.ModelCheckpoint object at 0x00000277A3E593A0>)`.\n",
      "  rank_zero_deprecation(\n",
      "GPU available: True, used: True\n",
      "TPU available: False, using: 0 TPU cores\n",
      "IPU available: False, using: 0 IPUs\n"
     ]
    }
   ],
   "source": [
    "checkpoint_callback = ModelCheckpoint(\n",
    "    dirpath = 'checkpoints', \n",
    "    filename = 'best-checkpoint', \n",
    "    save_top_k = 1, \n",
    "    verbose = True, \n",
    "    monitor = 'val_loss', \n",
    "    mode= 'min', \n",
    ")\n",
    "\n",
    "logger = TensorBoardLogger('lightning_logs', name  = 'custom_summary_from_xsum_data') \n",
    "\n",
    "trainer = pl.Trainer(\n",
    "    logger = logger, \n",
    "    checkpoint_callback = checkpoint_callback, \n",
    "    max_epochs = num_epochs, \n",
    "    gpus = 1, \n",
    ")"
   ]
  },
  {
   "cell_type": "code",
   "execution_count": 8,
   "metadata": {},
   "outputs": [
    {
     "name": "stderr",
     "output_type": "stream",
     "text": [
      "LOCAL_RANK: 0 - CUDA_VISIBLE_DEVICES: [0]\n",
      "\n",
      "  | Name  | Type                       | Params\n",
      "-----------------------------------------------------\n",
      "0 | model | T5ForConditionalGeneration | 222 M \n",
      "-----------------------------------------------------\n",
      "222 M     Trainable params\n",
      "0         Non-trainable params\n",
      "222 M     Total params\n",
      "891.614   Total estimated model params size (MB)\n"
     ]
    },
    {
     "data": {
      "application/vnd.jupyter.widget-view+json": {
       "model_id": "",
       "version_major": 2,
       "version_minor": 0
      },
      "text/plain": [
       "Validation sanity check: 0it [00:00, ?it/s]"
      ]
     },
     "metadata": {},
     "output_type": "display_data"
    },
    {
     "data": {
      "application/vnd.jupyter.widget-view+json": {
       "model_id": "c25b255957ea47ec9f4116a94379aa2e",
       "version_major": 2,
       "version_minor": 0
      },
      "text/plain": [
       "Training: 0it [00:00, ?it/s]"
      ]
     },
     "metadata": {},
     "output_type": "display_data"
    },
    {
     "name": "stderr",
     "output_type": "stream",
     "text": [
      "C:\\Users\\megra\\anaconda3\\envs\\textsum_env\\lib\\site-packages\\pytorch_lightning\\loops\\optimization\\closure.py:35: LightningDeprecationWarning: One of the returned values {'log'} has a `grad_fn`. We will detach it automatically but this behaviour will change in v1.6. Please detach it manually: `return {'loss': ..., 'something': something.detach()}`\n",
      "  rank_zero_deprecation(\n"
     ]
    },
    {
     "data": {
      "application/vnd.jupyter.widget-view+json": {
       "model_id": "",
       "version_major": 2,
       "version_minor": 0
      },
      "text/plain": [
       "Validating: 0it [00:00, ?it/s]"
      ]
     },
     "metadata": {},
     "output_type": "display_data"
    },
    {
     "data": {
      "application/vnd.jupyter.widget-view+json": {
       "model_id": "",
       "version_major": 2,
       "version_minor": 0
      },
      "text/plain": [
       "Validating: 0it [00:00, ?it/s]"
      ]
     },
     "metadata": {},
     "output_type": "display_data"
    },
    {
     "data": {
      "application/vnd.jupyter.widget-view+json": {
       "model_id": "",
       "version_major": 2,
       "version_minor": 0
      },
      "text/plain": [
       "Validating: 0it [00:00, ?it/s]"
      ]
     },
     "metadata": {},
     "output_type": "display_data"
    },
    {
     "data": {
      "application/vnd.jupyter.widget-view+json": {
       "model_id": "",
       "version_major": 2,
       "version_minor": 0
      },
      "text/plain": [
       "Validating: 0it [00:00, ?it/s]"
      ]
     },
     "metadata": {},
     "output_type": "display_data"
    },
    {
     "data": {
      "application/vnd.jupyter.widget-view+json": {
       "model_id": "",
       "version_major": 2,
       "version_minor": 0
      },
      "text/plain": [
       "Validating: 0it [00:00, ?it/s]"
      ]
     },
     "metadata": {},
     "output_type": "display_data"
    }
   ],
   "source": [
    "trainer.fit(model)"
   ]
  },
  {
   "cell_type": "markdown",
   "metadata": {},
   "source": [
    "## Loading best model in training "
   ]
  },
  {
   "cell_type": "code",
   "execution_count": 9,
   "metadata": {},
   "outputs": [],
   "source": [
    "trained_model = T5Finetuner.load_from_checkpoint(trainer.checkpoint_callback.best_model_path)"
   ]
  },
  {
   "cell_type": "code",
   "execution_count": 10,
   "metadata": {},
   "outputs": [],
   "source": [
    "trained_model.freeze()"
   ]
  },
  {
   "cell_type": "markdown",
   "metadata": {},
   "source": [
    "## Inference "
   ]
  },
  {
   "cell_type": "code",
   "execution_count": 11,
   "metadata": {},
   "outputs": [
    {
     "name": "stdout",
     "output_type": "stream",
     "text": [
      "~~~ Original text: \n",
      "\n",
      " North and his fellow Wales wing Alex Cuthbert scored the Lions's tries in the 23-21 win in Brisbane.\n",
      "Australia would have won had replacement Kurtley Beale not failed with two late penalties.\n",
      "\"It was a remarkable win and a remarkable result,\" North said.\n",
      "\"It was an unbelievable feeling. We won and I got my first [Lions] Test try. It doesn't get much better than that.\n",
      "\"My heart was in my mouth at the end. I think everyone was feeling the same.\n",
      "\"It's always good to get a win, and while it was tough towards the end we are delighted to have got that first win in the series.\n",
      "\"We've spoken a lot about momentum these past few weeks, and that could be huge for us now heading into the second Test next week.\"\n",
      "The Wallabies were leading 7-3 through Israel Folau's converted before the Lions hit back with a fine individual try from North.\n",
      "The 21-year-old, making his Lions Test debut, effortlessly beat three players during a 60-metre run before crossing for his third try of the tour.\n",
      "\"When the ball dropped out of the sky, my first thought was just to run,\" said North.\n",
      "\"Luckily, I saw a gap and I just went for it. It opened up for me, and I can't begin to tell you how good it felt when I crossed that line.\"\n",
      "North, who has joined Northampton Saints from Scarlets ahead of the 2013-14 season, thought he had struck again just five minutes later when he squeezed over in the corner.\n",
      "But the television match official ruled a combination of opposite number Israel Folau getting a hand underneath the ball and the Lions wing's free arm hitting the touchline meant no try.\n",
      "\"I felt it was a try. At the end of the day, the TMO makes his call and you have to live with it. But I certainly felt that I had got there,\" North added.\n",
      "\"Perhaps one or two things didn't quite go for us in that regard today, so it makes the win even better.\"\n",
      "The Lions face Melbourne Rebels, led by former Wales number eight Gareth Delve, on Tuesday before next Saturday's second Test against the Wallabies in the same city.\n",
      "Victory at Melbourne's Etihad Stadium would secure a first Lions Test series win since 1997 but North believes there is room for improvement.\n",
      "\"I definitely think we can play a lot better than we did,\" North added.\n",
      "\"We need to be more clinical, and we need to get a bit more accuracy in our game.\n",
      "\"It's a funny one, really. We know we can play better than that, but we are obviously still delighted to get the win.\n",
      "\"That wasn't our best performance, and we need to keep pushing for next week.\"\n",
      "North's Wales team-mate Cuthbert, who scored the Lions' second try, expects an Australian backlash in the second Test.\n",
      "\"Australia are not going to lie down and let us win this,\" Cuthbert said.\n",
      "\"They're going to put in one hell of an effort and I think they thought they probably could have won that game so they're going to be straight at us again next week. We've got a lot to work on.\" \n",
      "\n",
      "\n",
      " ~~~ Summary: \n",
      "\n",
      " Try-scorer George North has described the British and Irish Lions's first-Test victory over Australia as an \"unbelievable feeling\".\n"
     ]
    }
   ],
   "source": [
    "def get_example(index = int):\n",
    "    full_text = df['ctext'].values[index]\n",
    "    summary = df['text'].values[index]\n",
    "    return full_text, summary\n",
    "\n",
    "\n",
    "example_index = 55\n",
    "\n",
    "example_text, example_summary = get_example(example_index)\n",
    "print('~~~ Original text: \\n\\n', example_text, '\\n\\n\\n ~~~ Summary: \\n\\n', example_summary)"
   ]
  },
  {
   "cell_type": "code",
   "execution_count": 12,
   "metadata": {},
   "outputs": [
    {
     "name": "stderr",
     "output_type": "stream",
     "text": [
      "Keyword arguments {'add_special_characters': True} not recognized.\n"
     ]
    },
    {
     "data": {
      "text/plain": [
       "'denied his first Test try as Wales beat the Wallabies 23-21 in their first Test win of the season.'"
      ]
     },
     "execution_count": 12,
     "metadata": {},
     "output_type": "execute_result"
    }
   ],
   "source": [
    "# generating prediction from T5Finetuner method summarize \n",
    "prediction = T5Finetuner.summarize(example_text)\n",
    "prediction"
   ]
  },
  {
   "cell_type": "code",
   "execution_count": 13,
   "metadata": {},
   "outputs": [
    {
     "data": {
      "text/plain": [
       "{'rouge1': Score(precision=0.25, recall=0.23809523809523808, fmeasure=0.24390243902439024),\n",
       " 'rouge2': Score(precision=0.05263157894736842, recall=0.05, fmeasure=0.05128205128205128),\n",
       " 'rougeL': Score(precision=0.2, recall=0.19047619047619047, fmeasure=0.1951219512195122)}"
      ]
     },
     "execution_count": 13,
     "metadata": {},
     "output_type": "execute_result"
    }
   ],
   "source": [
    "#using RougeScorer to assess example \n",
    "scorer = rouge_scorer.RougeScorer(['rouge1', 'rouge2', 'rougeL'], use_stemmer=True)\n",
    "scorer.score(example_summary, prediction)"
   ]
  },
  {
   "cell_type": "code",
   "execution_count": null,
   "metadata": {},
   "outputs": [],
   "source": []
  }
 ],
 "metadata": {
  "accelerator": "GPU",
  "colab": {
   "collapsed_sections": [],
   "name": "Functional Fine Tuning T5 for Summary Generation with PyTorch Lightning.ipynb",
   "provenance": []
  },
  "kernelspec": {
   "display_name": "Python 3 (ipykernel)",
   "language": "python",
   "name": "python3"
  },
  "language_info": {
   "codemirror_mode": {
    "name": "ipython",
    "version": 3
   },
   "file_extension": ".py",
   "mimetype": "text/x-python",
   "name": "python",
   "nbconvert_exporter": "python",
   "pygments_lexer": "ipython3",
   "version": "3.9.7"
  },
  "varInspector": {
   "cols": {
    "lenName": 16,
    "lenType": 16,
    "lenVar": 40
   },
   "kernels_config": {
    "python": {
     "delete_cmd_postfix": "",
     "delete_cmd_prefix": "del ",
     "library": "var_list.py",
     "varRefreshCmd": "print(var_dic_list())"
    },
    "r": {
     "delete_cmd_postfix": ") ",
     "delete_cmd_prefix": "rm(",
     "library": "var_list.r",
     "varRefreshCmd": "cat(var_dic_list()) "
    }
   },
   "types_to_exclude": [
    "module",
    "function",
    "builtin_function_or_method",
    "instance",
    "_Feature"
   ],
   "window_display": false
  },
  "widgets": {
   "application/vnd.jupyter.widget-state+json": {
    "0746fa011f484ad58113bc793fe3d5f8": {
     "model_module": "@jupyter-widgets/base",
     "model_module_version": "1.2.0",
     "model_name": "LayoutModel",
     "state": {
      "_model_module": "@jupyter-widgets/base",
      "_model_module_version": "1.2.0",
      "_model_name": "LayoutModel",
      "_view_count": null,
      "_view_module": "@jupyter-widgets/base",
      "_view_module_version": "1.2.0",
      "_view_name": "LayoutView",
      "align_content": null,
      "align_items": null,
      "align_self": null,
      "border": null,
      "bottom": null,
      "display": null,
      "flex": null,
      "flex_flow": null,
      "grid_area": null,
      "grid_auto_columns": null,
      "grid_auto_flow": null,
      "grid_auto_rows": null,
      "grid_column": null,
      "grid_gap": null,
      "grid_row": null,
      "grid_template_areas": null,
      "grid_template_columns": null,
      "grid_template_rows": null,
      "height": null,
      "justify_content": null,
      "justify_items": null,
      "left": null,
      "margin": null,
      "max_height": null,
      "max_width": null,
      "min_height": null,
      "min_width": null,
      "object_fit": null,
      "object_position": null,
      "order": null,
      "overflow": null,
      "overflow_x": null,
      "overflow_y": null,
      "padding": null,
      "right": null,
      "top": null,
      "visibility": null,
      "width": null
     }
    },
    "0ae3b91592f14849b5d8793fb50a1523": {
     "model_module": "@jupyter-widgets/base",
     "model_module_version": "1.2.0",
     "model_name": "LayoutModel",
     "state": {
      "_model_module": "@jupyter-widgets/base",
      "_model_module_version": "1.2.0",
      "_model_name": "LayoutModel",
      "_view_count": null,
      "_view_module": "@jupyter-widgets/base",
      "_view_module_version": "1.2.0",
      "_view_name": "LayoutView",
      "align_content": null,
      "align_items": null,
      "align_self": null,
      "border": null,
      "bottom": null,
      "display": null,
      "flex": null,
      "flex_flow": null,
      "grid_area": null,
      "grid_auto_columns": null,
      "grid_auto_flow": null,
      "grid_auto_rows": null,
      "grid_column": null,
      "grid_gap": null,
      "grid_row": null,
      "grid_template_areas": null,
      "grid_template_columns": null,
      "grid_template_rows": null,
      "height": null,
      "justify_content": null,
      "justify_items": null,
      "left": null,
      "margin": null,
      "max_height": null,
      "max_width": null,
      "min_height": null,
      "min_width": null,
      "object_fit": null,
      "object_position": null,
      "order": null,
      "overflow": null,
      "overflow_x": null,
      "overflow_y": null,
      "padding": null,
      "right": null,
      "top": null,
      "visibility": null,
      "width": null
     }
    },
    "0cd2ed793e0d4d0e80cef01e4904a82d": {
     "model_module": "@jupyter-widgets/controls",
     "model_module_version": "1.5.0",
     "model_name": "FloatProgressModel",
     "state": {
      "_dom_classes": [],
      "_model_module": "@jupyter-widgets/controls",
      "_model_module_version": "1.5.0",
      "_model_name": "FloatProgressModel",
      "_view_count": null,
      "_view_module": "@jupyter-widgets/controls",
      "_view_module_version": "1.5.0",
      "_view_name": "ProgressView",
      "bar_style": "success",
      "description": "",
      "description_tooltip": null,
      "layout": "IPY_MODEL_6e1c940630b54e6e815127e2deb534c3",
      "max": 1199,
      "min": 0,
      "orientation": "horizontal",
      "style": "IPY_MODEL_5e1035c6439b4388a4aec2b5b5f75361",
      "value": 1199
     }
    },
    "0ec9cee8a33a4edf8c0c10ad9e8eac46": {
     "model_module": "@jupyter-widgets/base",
     "model_module_version": "1.2.0",
     "model_name": "LayoutModel",
     "state": {
      "_model_module": "@jupyter-widgets/base",
      "_model_module_version": "1.2.0",
      "_model_name": "LayoutModel",
      "_view_count": null,
      "_view_module": "@jupyter-widgets/base",
      "_view_module_version": "1.2.0",
      "_view_name": "LayoutView",
      "align_content": null,
      "align_items": null,
      "align_self": null,
      "border": null,
      "bottom": null,
      "display": null,
      "flex": null,
      "flex_flow": null,
      "grid_area": null,
      "grid_auto_columns": null,
      "grid_auto_flow": null,
      "grid_auto_rows": null,
      "grid_column": null,
      "grid_gap": null,
      "grid_row": null,
      "grid_template_areas": null,
      "grid_template_columns": null,
      "grid_template_rows": null,
      "height": null,
      "justify_content": null,
      "justify_items": null,
      "left": null,
      "margin": null,
      "max_height": null,
      "max_width": null,
      "min_height": null,
      "min_width": null,
      "object_fit": null,
      "object_position": null,
      "order": null,
      "overflow": null,
      "overflow_x": null,
      "overflow_y": null,
      "padding": null,
      "right": null,
      "top": null,
      "visibility": null,
      "width": null
     }
    },
    "16f4dde0b6b44e348ca74641ab268682": {
     "model_module": "@jupyter-widgets/base",
     "model_module_version": "1.2.0",
     "model_name": "LayoutModel",
     "state": {
      "_model_module": "@jupyter-widgets/base",
      "_model_module_version": "1.2.0",
      "_model_name": "LayoutModel",
      "_view_count": null,
      "_view_module": "@jupyter-widgets/base",
      "_view_module_version": "1.2.0",
      "_view_name": "LayoutView",
      "align_content": null,
      "align_items": null,
      "align_self": null,
      "border": null,
      "bottom": null,
      "display": null,
      "flex": null,
      "flex_flow": null,
      "grid_area": null,
      "grid_auto_columns": null,
      "grid_auto_flow": null,
      "grid_auto_rows": null,
      "grid_column": null,
      "grid_gap": null,
      "grid_row": null,
      "grid_template_areas": null,
      "grid_template_columns": null,
      "grid_template_rows": null,
      "height": null,
      "justify_content": null,
      "justify_items": null,
      "left": null,
      "margin": null,
      "max_height": null,
      "max_width": null,
      "min_height": null,
      "min_width": null,
      "object_fit": null,
      "object_position": null,
      "order": null,
      "overflow": null,
      "overflow_x": null,
      "overflow_y": null,
      "padding": null,
      "right": null,
      "top": null,
      "visibility": null,
      "width": null
     }
    },
    "1bfa3a6a22074e71b19eea8ade066e59": {
     "model_module": "@jupyter-widgets/controls",
     "model_module_version": "1.5.0",
     "model_name": "HBoxModel",
     "state": {
      "_dom_classes": [],
      "_model_module": "@jupyter-widgets/controls",
      "_model_module_version": "1.5.0",
      "_model_name": "HBoxModel",
      "_view_count": null,
      "_view_module": "@jupyter-widgets/controls",
      "_view_module_version": "1.5.0",
      "_view_name": "HBoxView",
      "box_style": "",
      "children": [
       "IPY_MODEL_d8d3f79d482246c0bbb0d879bebf0898",
       "IPY_MODEL_0cd2ed793e0d4d0e80cef01e4904a82d",
       "IPY_MODEL_5c9f278cd5934eacb478aa0c231901ac"
      ],
      "layout": "IPY_MODEL_0ec9cee8a33a4edf8c0c10ad9e8eac46"
     }
    },
    "275938732e6247e890300db8e0b554f3": {
     "model_module": "@jupyter-widgets/controls",
     "model_module_version": "1.5.0",
     "model_name": "FloatProgressModel",
     "state": {
      "_dom_classes": [],
      "_model_module": "@jupyter-widgets/controls",
      "_model_module_version": "1.5.0",
      "_model_name": "FloatProgressModel",
      "_view_count": null,
      "_view_module": "@jupyter-widgets/controls",
      "_view_module_version": "1.5.0",
      "_view_name": "ProgressView",
      "bar_style": "success",
      "description": "",
      "description_tooltip": null,
      "layout": "IPY_MODEL_0746fa011f484ad58113bc793fe3d5f8",
      "max": 891691430,
      "min": 0,
      "orientation": "horizontal",
      "style": "IPY_MODEL_ee625d5735834de8b9fdbf05afd1a054",
      "value": 891691430
     }
    },
    "282c96cfa2554c41a29babe9483be05a": {
     "model_module": "@jupyter-widgets/controls",
     "model_module_version": "1.5.0",
     "model_name": "HTMLModel",
     "state": {
      "_dom_classes": [],
      "_model_module": "@jupyter-widgets/controls",
      "_model_module_version": "1.5.0",
      "_model_name": "HTMLModel",
      "_view_count": null,
      "_view_module": "@jupyter-widgets/controls",
      "_view_module_version": "1.5.0",
      "_view_name": "HTMLView",
      "description": "",
      "description_tooltip": null,
      "layout": "IPY_MODEL_16f4dde0b6b44e348ca74641ab268682",
      "placeholder": "​",
      "style": "IPY_MODEL_9e8f9f0276a44aa880876c2a8e1130c3",
      "value": "Downloading: 100%"
     }
    },
    "3cc44dc6fb604912918d18d9320bdb15": {
     "model_module": "@jupyter-widgets/controls",
     "model_module_version": "1.5.0",
     "model_name": "DescriptionStyleModel",
     "state": {
      "_model_module": "@jupyter-widgets/controls",
      "_model_module_version": "1.5.0",
      "_model_name": "DescriptionStyleModel",
      "_view_count": null,
      "_view_module": "@jupyter-widgets/base",
      "_view_module_version": "1.2.0",
      "_view_name": "StyleView",
      "description_width": ""
     }
    },
    "5553b23a58bf4e56811e7d9368dcad82": {
     "model_module": "@jupyter-widgets/controls",
     "model_module_version": "1.5.0",
     "model_name": "DescriptionStyleModel",
     "state": {
      "_model_module": "@jupyter-widgets/controls",
      "_model_module_version": "1.5.0",
      "_model_name": "DescriptionStyleModel",
      "_view_count": null,
      "_view_module": "@jupyter-widgets/base",
      "_view_module_version": "1.2.0",
      "_view_name": "StyleView",
      "description_width": ""
     }
    },
    "5c9f278cd5934eacb478aa0c231901ac": {
     "model_module": "@jupyter-widgets/controls",
     "model_module_version": "1.5.0",
     "model_name": "HTMLModel",
     "state": {
      "_dom_classes": [],
      "_model_module": "@jupyter-widgets/controls",
      "_model_module_version": "1.5.0",
      "_model_name": "HTMLModel",
      "_view_count": null,
      "_view_module": "@jupyter-widgets/controls",
      "_view_module_version": "1.5.0",
      "_view_name": "HTMLView",
      "description": "",
      "description_tooltip": null,
      "layout": "IPY_MODEL_b57f1d7d94f840e5bee110b1ad931ef7",
      "placeholder": "​",
      "style": "IPY_MODEL_3cc44dc6fb604912918d18d9320bdb15",
      "value": " 1.17k/1.17k [00:00&lt;00:00, 26.2kB/s]"
     }
    },
    "5e1035c6439b4388a4aec2b5b5f75361": {
     "model_module": "@jupyter-widgets/controls",
     "model_module_version": "1.5.0",
     "model_name": "ProgressStyleModel",
     "state": {
      "_model_module": "@jupyter-widgets/controls",
      "_model_module_version": "1.5.0",
      "_model_name": "ProgressStyleModel",
      "_view_count": null,
      "_view_module": "@jupyter-widgets/base",
      "_view_module_version": "1.2.0",
      "_view_name": "StyleView",
      "bar_color": null,
      "description_width": ""
     }
    },
    "5f914f88aa1b4a17afb3d747a46f2c68": {
     "model_module": "@jupyter-widgets/controls",
     "model_module_version": "1.5.0",
     "model_name": "DescriptionStyleModel",
     "state": {
      "_model_module": "@jupyter-widgets/controls",
      "_model_module_version": "1.5.0",
      "_model_name": "DescriptionStyleModel",
      "_view_count": null,
      "_view_module": "@jupyter-widgets/base",
      "_view_module_version": "1.2.0",
      "_view_name": "StyleView",
      "description_width": ""
     }
    },
    "6e1c940630b54e6e815127e2deb534c3": {
     "model_module": "@jupyter-widgets/base",
     "model_module_version": "1.2.0",
     "model_name": "LayoutModel",
     "state": {
      "_model_module": "@jupyter-widgets/base",
      "_model_module_version": "1.2.0",
      "_model_name": "LayoutModel",
      "_view_count": null,
      "_view_module": "@jupyter-widgets/base",
      "_view_module_version": "1.2.0",
      "_view_name": "LayoutView",
      "align_content": null,
      "align_items": null,
      "align_self": null,
      "border": null,
      "bottom": null,
      "display": null,
      "flex": null,
      "flex_flow": null,
      "grid_area": null,
      "grid_auto_columns": null,
      "grid_auto_flow": null,
      "grid_auto_rows": null,
      "grid_column": null,
      "grid_gap": null,
      "grid_row": null,
      "grid_template_areas": null,
      "grid_template_columns": null,
      "grid_template_rows": null,
      "height": null,
      "justify_content": null,
      "justify_items": null,
      "left": null,
      "margin": null,
      "max_height": null,
      "max_width": null,
      "min_height": null,
      "min_width": null,
      "object_fit": null,
      "object_position": null,
      "order": null,
      "overflow": null,
      "overflow_x": null,
      "overflow_y": null,
      "padding": null,
      "right": null,
      "top": null,
      "visibility": null,
      "width": null
     }
    },
    "7af4c06c265646459394e72e966d663b": {
     "model_module": "@jupyter-widgets/controls",
     "model_module_version": "1.5.0",
     "model_name": "HTMLModel",
     "state": {
      "_dom_classes": [],
      "_model_module": "@jupyter-widgets/controls",
      "_model_module_version": "1.5.0",
      "_model_name": "HTMLModel",
      "_view_count": null,
      "_view_module": "@jupyter-widgets/controls",
      "_view_module_version": "1.5.0",
      "_view_name": "HTMLView",
      "description": "",
      "description_tooltip": null,
      "layout": "IPY_MODEL_0ae3b91592f14849b5d8793fb50a1523",
      "placeholder": "​",
      "style": "IPY_MODEL_5f914f88aa1b4a17afb3d747a46f2c68",
      "value": " 850M/850M [00:24&lt;00:00, 36.5MB/s]"
     }
    },
    "9e8f9f0276a44aa880876c2a8e1130c3": {
     "model_module": "@jupyter-widgets/controls",
     "model_module_version": "1.5.0",
     "model_name": "DescriptionStyleModel",
     "state": {
      "_model_module": "@jupyter-widgets/controls",
      "_model_module_version": "1.5.0",
      "_model_name": "DescriptionStyleModel",
      "_view_count": null,
      "_view_module": "@jupyter-widgets/base",
      "_view_module_version": "1.2.0",
      "_view_name": "StyleView",
      "description_width": ""
     }
    },
    "ac04c801c5b4444da3f8c62d8444f784": {
     "model_module": "@jupyter-widgets/base",
     "model_module_version": "1.2.0",
     "model_name": "LayoutModel",
     "state": {
      "_model_module": "@jupyter-widgets/base",
      "_model_module_version": "1.2.0",
      "_model_name": "LayoutModel",
      "_view_count": null,
      "_view_module": "@jupyter-widgets/base",
      "_view_module_version": "1.2.0",
      "_view_name": "LayoutView",
      "align_content": null,
      "align_items": null,
      "align_self": null,
      "border": null,
      "bottom": null,
      "display": null,
      "flex": null,
      "flex_flow": null,
      "grid_area": null,
      "grid_auto_columns": null,
      "grid_auto_flow": null,
      "grid_auto_rows": null,
      "grid_column": null,
      "grid_gap": null,
      "grid_row": null,
      "grid_template_areas": null,
      "grid_template_columns": null,
      "grid_template_rows": null,
      "height": null,
      "justify_content": null,
      "justify_items": null,
      "left": null,
      "margin": null,
      "max_height": null,
      "max_width": null,
      "min_height": null,
      "min_width": null,
      "object_fit": null,
      "object_position": null,
      "order": null,
      "overflow": null,
      "overflow_x": null,
      "overflow_y": null,
      "padding": null,
      "right": null,
      "top": null,
      "visibility": null,
      "width": null
     }
    },
    "b57f1d7d94f840e5bee110b1ad931ef7": {
     "model_module": "@jupyter-widgets/base",
     "model_module_version": "1.2.0",
     "model_name": "LayoutModel",
     "state": {
      "_model_module": "@jupyter-widgets/base",
      "_model_module_version": "1.2.0",
      "_model_name": "LayoutModel",
      "_view_count": null,
      "_view_module": "@jupyter-widgets/base",
      "_view_module_version": "1.2.0",
      "_view_name": "LayoutView",
      "align_content": null,
      "align_items": null,
      "align_self": null,
      "border": null,
      "bottom": null,
      "display": null,
      "flex": null,
      "flex_flow": null,
      "grid_area": null,
      "grid_auto_columns": null,
      "grid_auto_flow": null,
      "grid_auto_rows": null,
      "grid_column": null,
      "grid_gap": null,
      "grid_row": null,
      "grid_template_areas": null,
      "grid_template_columns": null,
      "grid_template_rows": null,
      "height": null,
      "justify_content": null,
      "justify_items": null,
      "left": null,
      "margin": null,
      "max_height": null,
      "max_width": null,
      "min_height": null,
      "min_width": null,
      "object_fit": null,
      "object_position": null,
      "order": null,
      "overflow": null,
      "overflow_x": null,
      "overflow_y": null,
      "padding": null,
      "right": null,
      "top": null,
      "visibility": null,
      "width": null
     }
    },
    "b6a1f41b5b984124ab5a272e26cd68c8": {
     "model_module": "@jupyter-widgets/controls",
     "model_module_version": "1.5.0",
     "model_name": "HBoxModel",
     "state": {
      "_dom_classes": [],
      "_model_module": "@jupyter-widgets/controls",
      "_model_module_version": "1.5.0",
      "_model_name": "HBoxModel",
      "_view_count": null,
      "_view_module": "@jupyter-widgets/controls",
      "_view_module_version": "1.5.0",
      "_view_name": "HBoxView",
      "box_style": "",
      "children": [
       "IPY_MODEL_282c96cfa2554c41a29babe9483be05a",
       "IPY_MODEL_275938732e6247e890300db8e0b554f3",
       "IPY_MODEL_7af4c06c265646459394e72e966d663b"
      ],
      "layout": "IPY_MODEL_c2c5979963084197939ce83ca1df8213"
     }
    },
    "c2c5979963084197939ce83ca1df8213": {
     "model_module": "@jupyter-widgets/base",
     "model_module_version": "1.2.0",
     "model_name": "LayoutModel",
     "state": {
      "_model_module": "@jupyter-widgets/base",
      "_model_module_version": "1.2.0",
      "_model_name": "LayoutModel",
      "_view_count": null,
      "_view_module": "@jupyter-widgets/base",
      "_view_module_version": "1.2.0",
      "_view_name": "LayoutView",
      "align_content": null,
      "align_items": null,
      "align_self": null,
      "border": null,
      "bottom": null,
      "display": null,
      "flex": null,
      "flex_flow": null,
      "grid_area": null,
      "grid_auto_columns": null,
      "grid_auto_flow": null,
      "grid_auto_rows": null,
      "grid_column": null,
      "grid_gap": null,
      "grid_row": null,
      "grid_template_areas": null,
      "grid_template_columns": null,
      "grid_template_rows": null,
      "height": null,
      "justify_content": null,
      "justify_items": null,
      "left": null,
      "margin": null,
      "max_height": null,
      "max_width": null,
      "min_height": null,
      "min_width": null,
      "object_fit": null,
      "object_position": null,
      "order": null,
      "overflow": null,
      "overflow_x": null,
      "overflow_y": null,
      "padding": null,
      "right": null,
      "top": null,
      "visibility": null,
      "width": null
     }
    },
    "d8d3f79d482246c0bbb0d879bebf0898": {
     "model_module": "@jupyter-widgets/controls",
     "model_module_version": "1.5.0",
     "model_name": "HTMLModel",
     "state": {
      "_dom_classes": [],
      "_model_module": "@jupyter-widgets/controls",
      "_model_module_version": "1.5.0",
      "_model_name": "HTMLModel",
      "_view_count": null,
      "_view_module": "@jupyter-widgets/controls",
      "_view_module_version": "1.5.0",
      "_view_name": "HTMLView",
      "description": "",
      "description_tooltip": null,
      "layout": "IPY_MODEL_ac04c801c5b4444da3f8c62d8444f784",
      "placeholder": "​",
      "style": "IPY_MODEL_5553b23a58bf4e56811e7d9368dcad82",
      "value": "Downloading: 100%"
     }
    },
    "ee625d5735834de8b9fdbf05afd1a054": {
     "model_module": "@jupyter-widgets/controls",
     "model_module_version": "1.5.0",
     "model_name": "ProgressStyleModel",
     "state": {
      "_model_module": "@jupyter-widgets/controls",
      "_model_module_version": "1.5.0",
      "_model_name": "ProgressStyleModel",
      "_view_count": null,
      "_view_module": "@jupyter-widgets/base",
      "_view_module_version": "1.2.0",
      "_view_name": "StyleView",
      "bar_color": null,
      "description_width": ""
     }
    }
   }
  }
 },
 "nbformat": 4,
 "nbformat_minor": 1
}
